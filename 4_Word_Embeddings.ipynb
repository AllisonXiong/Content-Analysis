{
  "cells": [
    {
      "cell_type": "markdown",
      "metadata": {
        "id": "view-in-github",
        "colab_type": "text"
      },
      "source": [
        "<a href=\"https://colab.research.google.com/github/AllisonXiong/Content-Analysis/blob/main/4_Word_Embeddings.ipynb\" target=\"_parent\"><img src=\"https://colab.research.google.com/assets/colab-badge.svg\" alt=\"Open In Colab\"/></a>"
      ]
    },
    {
      "cell_type": "markdown",
      "metadata": {
        "id": "dMbmVulUO4_F"
      },
      "source": [
        "# Week 4 - Exploring Semantic Spaces (Word Embeddings)\n",
        "This week, we build on last week's topic modeling techniques by taking a text corpus we have developed, specifying an underlying number of dimensions, and training a model with a neural network auto-encoder (one of Google's word2vec  algorithms) that best describes corpus words in their local linguistic contexts, and exploring their locations in the resulting space to learn about the discursive culture that produced them.\n",
        "\n",
        "This is our third document representation we have learned: First, we used word counts. Second, we used LDA topic models built around term coocurrence in the same document (i.e., a \"bag of words\"). Third, documents here are represented as densely indexed locations in dimensions, so that distances between those documents (and words) contain more information, though they require the full vector of dimension loadings (rather than just a few selected topic loadings) to describe. We will explore these spaces to understand complex, semantic relationships between words, index documents with descriptive words, identify the likelihood that a given document would have been produced by a given vector model, and explore how semantic categories can help us understand the cultures that produced them.\n",
        "\n",
        "Note that most modern natural language processing (NLP) research, at least in computer science, uses word embeddings. This is the foundation of most state-of-the-art models.\n",
        "\n",
        "Also note that the code in this Notebook can take many minutes or even hours to run. This is the case for most NLP research these days, and it's a good opportunity to start thinking about how to manage high-compute workloads, such as running code on small samples to test it, loading datafiles in [chunks](https://stackoverflow.com/a/25962187), or [multiprocessing](https://en.wikipedia.org/wiki/Multiprocessing)."
      ]
    },
    {
      "cell_type": "markdown",
      "metadata": {
        "id": "sV5O90ruO4_J"
      },
      "source": [
        "## <font color=\"red\">*Pitch Your Project*</font>\n",
        "\n",
        "<font color=\"red\">In the three cells immediately following, describe **WHAT** you are planning to analyze for your final project (i.e., texts, contexts and the social game, world and actors you intend to learn about through your analysis) (<200 words), **WHY** you are going to do it (i.e., why would theory and/or the average person benefit from knowing the results of your investigation) (<200 words), and **HOW** you plan to investigate it (i.e., what are the approaches and operations you plan to perform, in sequence, to yield this insight) (<400 words).\n",
        "\n",
        "# ***What?*** \n",
        "<200 words\n",
        "    \n",
        "        I plan to analyze COVID-related news articles, especially the fake news, especially the ones that went viral. Through the analysis, I wish to capture the features of these fake news articles, such as common topics, sentiment, wording strategies, etc.\n",
        "\n",
        "## ***Why?***\n",
        "<200 words\n",
        "     \n",
        "         A lot of scholars have expressed concerns about the impact of fake news, though mostly in the context of democratic discourses. However, other public topics such as health can also be influenced by manipulated information. For instance, unverified anti-vax information that has been widespread on social media may lead to a decrease in vaccines uptake rates and could be extremely harmful during the global pandemic of COVID19. Investigating the nature of fake news may offer valuable insights for health experts to combat misinformation, and to find a better way to communicate their suggestions and corrections of rumors to the public.\n",
        "\n",
        "## ***How?***\n",
        "<400 words\n",
        "\n"
      ]
    },
    {
      "cell_type": "markdown",
      "metadata": {
        "id": "x59tGe8zO4_J"
      },
      "source": [
        ""
      ]
    },
    {
      "cell_type": "markdown",
      "metadata": {
        "id": "29A8XHL8O4_K"
      },
      "source": [
        ""
      ]
    },
    {
      "cell_type": "markdown",
      "metadata": {
        "id": "csC00IQyO4_K"
      },
      "source": [
        ""
      ]
    },
    {
      "cell_type": "markdown",
      "metadata": {
        "id": "u8apS4xRO4_K"
      },
      "source": [
        "## <font color=\"red\">*Pitch Your Sample*</font>\n",
        "\n",
        "<font color=\"red\">In the cell immediately following, describe the rationale behind your proposed sample design for your final project. What is the social game, social work, or social actors you about whom you are seeking to make inferences? What are its virtues with respect to your research questions? What are its limitations? What are alternatives? What would be a reasonable path to \"scale up\" your sample for further analysis (i.e., high-profile publication) beyond this class? (<300 words).\n",
        "\n",
        "## ***Which (words)?***\n",
        "<300 words"
      ]
    },
    {
      "cell_type": "code",
      "source": [
        "!pip install -U git+git://github.com/UChicago-Computational-Content-Analysis/lucem_illud.git"
      ],
      "metadata": {
        "id": "6uHBTUXSPAw9"
      },
      "execution_count": null,
      "outputs": []
    },
    {
      "cell_type": "code",
      "execution_count": 9,
      "metadata": {
        "id": "Lykxmin0O4_L"
      },
      "outputs": [],
      "source": [
        "#All these packages need to be installed from pip\n",
        "import gensim#For word2vec, etc\n",
        "import requests #For downloading our datasets\n",
        "import lucem_illud #pip install -U git+git://github.com/UChicago-Computational-Content-Analysis/lucem_illud.git\n",
        "\n",
        "import numpy as np #For arrays\n",
        "import pandas as pd #Gives us DataFrames\n",
        "import matplotlib.pyplot as plt #For graphics\n",
        "import seaborn #Makes the graphics look nicer\n",
        "import sklearn.metrics.pairwise #For cosine similarity\n",
        "import sklearn.manifold #For T-SNE\n",
        "import sklearn.decomposition #For PCA\n",
        "\n",
        "#This 'magic' command makes the plots work better\n",
        "#in the notebook, don't use it outside of a notebook.\n",
        "#Also you can ignore the warning\n",
        "%matplotlib inline\n",
        "\n",
        "import os #For looking through files\n",
        "import os.path #For managing file paths"
      ]
    },
    {
      "cell_type": "markdown",
      "metadata": {
        "id": "ESc6tcxNO4_M"
      },
      "source": [
        "# Getting our corpora\n",
        "\n",
        "Instead of downloading our corpora, we have download them in advance; a subset of the [senate press releases](https://github.com/lintool/GrimmerSenatePressReleases) are in `grimmerPressReleases`. We will load them into a DataFrame, but first we need to define a function to convert directories of text files into DataFrames:"
      ]
    },
    {
      "cell_type": "code",
      "execution_count": 10,
      "metadata": {
        "id": "wPHwP0R2O4_M"
      },
      "outputs": [],
      "source": [
        "def loadDir(targetDir, category):\n",
        "    allFileNames = os.listdir(targetDir)\n",
        "    #We need to make them into usable paths and filter out hidden files\n",
        "    filePaths = [os.path.join(targetDir, fname) for fname in allFileNames if fname[0] != '.']\n",
        "\n",
        "    #The dict that will become the DataFrame\n",
        "    senDict = {\n",
        "        'category' : [category] * len(filePaths),\n",
        "        'filePath' : [],\n",
        "        'text' : [],\n",
        "    }\n",
        "\n",
        "    for fPath in filePaths:\n",
        "        # with open(fPath) as f:\n",
        "# Try this line instead if you get an encoding error.\n",
        "        with open(fPath, encoding=\"ISO-8859-1\") as f:\n",
        "            senDict['text'].append(f.read())\n",
        "            senDict['filePath'].append(fPath)\n",
        "\n",
        "    return pd.DataFrame(senDict)"
      ]
    },
    {
      "cell_type": "markdown",
      "metadata": {
        "id": "bfIfJKl9O4_N"
      },
      "source": [
        "Now we can use the function in all the directories in `data/grimmerPressReleases`. If you are on Google Colab, note that rather than downloading GitHub data to your local machine and then uploading it to Drive, you can more quickly `git clone` directly to Colab, such as `!git clone https://github.com/lintool/GrimmerSenatePressReleases.git /drive/MyDrive/`, which then makes your `dataDir = 'drive/MyDrive/grimmerPressReleases/raw'`."
      ]
    },
    {
      "cell_type": "code",
      "source": [
        "!git clone https://github.com/lintool/GrimmerSenatePressReleases.git /drive/MyDrive/"
      ],
      "metadata": {
        "colab": {
          "base_uri": "https://localhost:8080/"
        },
        "id": "mPCwzsjhPdFN",
        "outputId": "adbc0d97-0bd5-4a2e-fe75-def2c7d546d4"
      },
      "execution_count": 11,
      "outputs": [
        {
          "output_type": "stream",
          "name": "stdout",
          "text": [
            "fatal: destination path '/drive/MyDrive' already exists and is not an empty directory.\n"
          ]
        }
      ]
    },
    {
      "cell_type": "code",
      "execution_count": 12,
      "metadata": {
        "colab": {
          "base_uri": "https://localhost:8080/",
          "height": 528
        },
        "id": "GCp7ZcGZO4_N",
        "outputId": "cfff27c0-baac-47d9-99b4-d2a8777da286"
      },
      "outputs": [
        {
          "output_type": "execute_result",
          "data": {
            "text/html": [
              "\n",
              "  <div id=\"df-3339426f-37a7-4a80-86da-4597abb62d43\">\n",
              "    <div class=\"colab-df-container\">\n",
              "      <div>\n",
              "<style scoped>\n",
              "    .dataframe tbody tr th:only-of-type {\n",
              "        vertical-align: middle;\n",
              "    }\n",
              "\n",
              "    .dataframe tbody tr th {\n",
              "        vertical-align: top;\n",
              "    }\n",
              "\n",
              "    .dataframe thead th {\n",
              "        text-align: right;\n",
              "    }\n",
              "</style>\n",
              "<table border=\"1\" class=\"dataframe\">\n",
              "  <thead>\n",
              "    <tr style=\"text-align: right;\">\n",
              "      <th></th>\n",
              "      <th>category</th>\n",
              "      <th>filePath</th>\n",
              "      <th>text</th>\n",
              "    </tr>\n",
              "  </thead>\n",
              "  <tbody>\n",
              "    <tr>\n",
              "      <th>0</th>\n",
              "      <td>Inouye</td>\n",
              "      <td>/drive/MyDrive/raw/Inouye/17Nov2006Inouye5.txt</td>\n",
              "      <td>INOUYE AND AKAKA DISAPPOINTED BY DEL MONTE PUL...</td>\n",
              "    </tr>\n",
              "    <tr>\n",
              "      <th>10</th>\n",
              "      <td>Inouye</td>\n",
              "      <td>/drive/MyDrive/raw/Inouye/29Jun2006Inouye31.txt</td>\n",
              "      <td>SENATE APPROPRIATIONS PANEL APPROVES  67 1 MIL...</td>\n",
              "    </tr>\n",
              "    <tr>\n",
              "      <th>20</th>\n",
              "      <td>Inouye</td>\n",
              "      <td>/drive/MyDrive/raw/Inouye/04May2006Inouye48.txt</td>\n",
              "      <td>SENATE APPROVES  37 5 MILLION IN STORM RELATED...</td>\n",
              "    </tr>\n",
              "    <tr>\n",
              "      <th>30</th>\n",
              "      <td>Inouye</td>\n",
              "      <td>/drive/MyDrive/raw/Inouye/24Jan2007Inouye75.txt</td>\n",
              "      <td>INOUYE ANNOUNCES EARTHQUAKE ASSISTANCE TO INCL...</td>\n",
              "    </tr>\n",
              "    <tr>\n",
              "      <th>40</th>\n",
              "      <td>Inouye</td>\n",
              "      <td>/drive/MyDrive/raw/Inouye/21Sep2006Inouye13.txt</td>\n",
              "      <td>STATE TO RECEIVE  1 3 MILLION IN HOMELAND SECU...</td>\n",
              "    </tr>\n",
              "    <tr>\n",
              "      <th>50</th>\n",
              "      <td>Inouye</td>\n",
              "      <td>/drive/MyDrive/raw/Inouye/06Oct2005Inouye20.txt</td>\n",
              "      <td>SENATE APPROVES  484 MILLION FOR DEFENSE RELAT...</td>\n",
              "    </tr>\n",
              "    <tr>\n",
              "      <th>60</th>\n",
              "      <td>Inouye</td>\n",
              "      <td>/drive/MyDrive/raw/Inouye/21Jun2007Inouye47.txt</td>\n",
              "      <td>SENATE APPROPRIATIONS COMMITTEE APPROVES  250 ...</td>\n",
              "    </tr>\n",
              "    <tr>\n",
              "      <th>70</th>\n",
              "      <td>Inouye</td>\n",
              "      <td>/drive/MyDrive/raw/Inouye/10Aug2007Inouye30.txt</td>\n",
              "      <td>Inouye Commends DHS Secure Flight and APIS Rul...</td>\n",
              "    </tr>\n",
              "    <tr>\n",
              "      <th>80</th>\n",
              "      <td>Inouye</td>\n",
              "      <td>/drive/MyDrive/raw/Inouye/10May2007Inouye59.txt</td>\n",
              "      <td>MORE THAN  2 4 MILLION IN HOMELAND SECURITY FU...</td>\n",
              "    </tr>\n",
              "    <tr>\n",
              "      <th>90</th>\n",
              "      <td>Inouye</td>\n",
              "      <td>/drive/MyDrive/raw/Inouye/20Jun2007Inouye49.txt</td>\n",
              "      <td>3 MILLION IN FEDERAL FUNDS WILL BE RELEASED T...</td>\n",
              "    </tr>\n",
              "  </tbody>\n",
              "</table>\n",
              "</div>\n",
              "      <button class=\"colab-df-convert\" onclick=\"convertToInteractive('df-3339426f-37a7-4a80-86da-4597abb62d43')\"\n",
              "              title=\"Convert this dataframe to an interactive table.\"\n",
              "              style=\"display:none;\">\n",
              "        \n",
              "  <svg xmlns=\"http://www.w3.org/2000/svg\" height=\"24px\"viewBox=\"0 0 24 24\"\n",
              "       width=\"24px\">\n",
              "    <path d=\"M0 0h24v24H0V0z\" fill=\"none\"/>\n",
              "    <path d=\"M18.56 5.44l.94 2.06.94-2.06 2.06-.94-2.06-.94-.94-2.06-.94 2.06-2.06.94zm-11 1L8.5 8.5l.94-2.06 2.06-.94-2.06-.94L8.5 2.5l-.94 2.06-2.06.94zm10 10l.94 2.06.94-2.06 2.06-.94-2.06-.94-.94-2.06-.94 2.06-2.06.94z\"/><path d=\"M17.41 7.96l-1.37-1.37c-.4-.4-.92-.59-1.43-.59-.52 0-1.04.2-1.43.59L10.3 9.45l-7.72 7.72c-.78.78-.78 2.05 0 2.83L4 21.41c.39.39.9.59 1.41.59.51 0 1.02-.2 1.41-.59l7.78-7.78 2.81-2.81c.8-.78.8-2.07 0-2.86zM5.41 20L4 18.59l7.72-7.72 1.47 1.35L5.41 20z\"/>\n",
              "  </svg>\n",
              "      </button>\n",
              "      \n",
              "  <style>\n",
              "    .colab-df-container {\n",
              "      display:flex;\n",
              "      flex-wrap:wrap;\n",
              "      gap: 12px;\n",
              "    }\n",
              "\n",
              "    .colab-df-convert {\n",
              "      background-color: #E8F0FE;\n",
              "      border: none;\n",
              "      border-radius: 50%;\n",
              "      cursor: pointer;\n",
              "      display: none;\n",
              "      fill: #1967D2;\n",
              "      height: 32px;\n",
              "      padding: 0 0 0 0;\n",
              "      width: 32px;\n",
              "    }\n",
              "\n",
              "    .colab-df-convert:hover {\n",
              "      background-color: #E2EBFA;\n",
              "      box-shadow: 0px 1px 2px rgba(60, 64, 67, 0.3), 0px 1px 3px 1px rgba(60, 64, 67, 0.15);\n",
              "      fill: #174EA6;\n",
              "    }\n",
              "\n",
              "    [theme=dark] .colab-df-convert {\n",
              "      background-color: #3B4455;\n",
              "      fill: #D2E3FC;\n",
              "    }\n",
              "\n",
              "    [theme=dark] .colab-df-convert:hover {\n",
              "      background-color: #434B5C;\n",
              "      box-shadow: 0px 1px 3px 1px rgba(0, 0, 0, 0.15);\n",
              "      filter: drop-shadow(0px 1px 2px rgba(0, 0, 0, 0.3));\n",
              "      fill: #FFFFFF;\n",
              "    }\n",
              "  </style>\n",
              "\n",
              "      <script>\n",
              "        const buttonEl =\n",
              "          document.querySelector('#df-3339426f-37a7-4a80-86da-4597abb62d43 button.colab-df-convert');\n",
              "        buttonEl.style.display =\n",
              "          google.colab.kernel.accessAllowed ? 'block' : 'none';\n",
              "\n",
              "        async function convertToInteractive(key) {\n",
              "          const element = document.querySelector('#df-3339426f-37a7-4a80-86da-4597abb62d43');\n",
              "          const dataTable =\n",
              "            await google.colab.kernel.invokeFunction('convertToInteractive',\n",
              "                                                     [key], {});\n",
              "          if (!dataTable) return;\n",
              "\n",
              "          const docLinkHtml = 'Like what you see? Visit the ' +\n",
              "            '<a target=\"_blank\" href=https://colab.research.google.com/notebooks/data_table.ipynb>data table notebook</a>'\n",
              "            + ' to learn more about interactive tables.';\n",
              "          element.innerHTML = '';\n",
              "          dataTable['output_type'] = 'display_data';\n",
              "          await google.colab.output.renderOutput(dataTable, element);\n",
              "          const docLink = document.createElement('div');\n",
              "          docLink.innerHTML = docLinkHtml;\n",
              "          element.appendChild(docLink);\n",
              "        }\n",
              "      </script>\n",
              "    </div>\n",
              "  </div>\n",
              "  "
            ],
            "text/plain": [
              "   category                                         filePath  \\\n",
              "0    Inouye   /drive/MyDrive/raw/Inouye/17Nov2006Inouye5.txt   \n",
              "10   Inouye  /drive/MyDrive/raw/Inouye/29Jun2006Inouye31.txt   \n",
              "20   Inouye  /drive/MyDrive/raw/Inouye/04May2006Inouye48.txt   \n",
              "30   Inouye  /drive/MyDrive/raw/Inouye/24Jan2007Inouye75.txt   \n",
              "40   Inouye  /drive/MyDrive/raw/Inouye/21Sep2006Inouye13.txt   \n",
              "50   Inouye  /drive/MyDrive/raw/Inouye/06Oct2005Inouye20.txt   \n",
              "60   Inouye  /drive/MyDrive/raw/Inouye/21Jun2007Inouye47.txt   \n",
              "70   Inouye  /drive/MyDrive/raw/Inouye/10Aug2007Inouye30.txt   \n",
              "80   Inouye  /drive/MyDrive/raw/Inouye/10May2007Inouye59.txt   \n",
              "90   Inouye  /drive/MyDrive/raw/Inouye/20Jun2007Inouye49.txt   \n",
              "\n",
              "                                                 text  \n",
              "0   INOUYE AND AKAKA DISAPPOINTED BY DEL MONTE PUL...  \n",
              "10  SENATE APPROPRIATIONS PANEL APPROVES  67 1 MIL...  \n",
              "20  SENATE APPROVES  37 5 MILLION IN STORM RELATED...  \n",
              "30  INOUYE ANNOUNCES EARTHQUAKE ASSISTANCE TO INCL...  \n",
              "40  STATE TO RECEIVE  1 3 MILLION IN HOMELAND SECU...  \n",
              "50  SENATE APPROVES  484 MILLION FOR DEFENSE RELAT...  \n",
              "60  SENATE APPROPRIATIONS COMMITTEE APPROVES  250 ...  \n",
              "70  Inouye Commends DHS Secure Flight and APIS Rul...  \n",
              "80  MORE THAN  2 4 MILLION IN HOMELAND SECURITY FU...  \n",
              "90   3 MILLION IN FEDERAL FUNDS WILL BE RELEASED T...  "
            ]
          },
          "metadata": {},
          "execution_count": 12
        }
      ],
      "source": [
        "dataDir = '/drive/MyDrive/raw'\n",
        "# dataDir = '../data/grimmerPressReleases'\n",
        "\n",
        "senReleasesDF = pd.DataFrame()\n",
        "\n",
        "for senatorName in [d for d in os.listdir(dataDir) if d[0] != '.']:\n",
        "    senPath = os.path.join(dataDir, senatorName)\n",
        "    senReleasesDF = senReleasesDF.append(loadDir(senPath, senatorName), ignore_index = True)\n",
        "\n",
        "senReleasesDF[:100:10]"
      ]
    },
    {
      "cell_type": "markdown",
      "metadata": {
        "id": "tnxbW6LyO4_O"
      },
      "source": [
        "Word2Vec needs to retain the sentence structure so as to capture a \"continuous bag of words (CBOW)\" and all of the skip-grams within a word window. The algorithm tries to preserve the distances induced by one of these two local structures. This is very different from clustering and LDA topic modeling which extract unordered words alone.\n",
        "\n",
        "When we normalize here, we don't use the lematized form of the word because we might lose information. Note the paramter in the normalize tokens function."
      ]
    },
    {
      "cell_type": "code",
      "execution_count": null,
      "metadata": {
        "id": "ww5nHbk1O4_P"
      },
      "outputs": [],
      "source": [
        "#Apply our functions, notice each row is a list of lists now\n",
        "senReleasesDF['tokenized_sents'] = senReleasesDF['text'].apply(lambda x: [lucem_illud.word_tokenize(s) for s in lucem_illud.sent_tokenize(x)])\n",
        "senReleasesDF['normalized_sents'] = senReleasesDF['tokenized_sents'].apply(lambda x: [lucem_illud.normalizeTokens(s, lemma=False) for s in x])\n",
        "# With the latest spacy versions, you may get warnings with the following line of code. See the discussion here: https://github.com/allenai/allennlp/issues/5036\n",
        "# senReleasesDF['normalized_sents'] = senReleasesDF['tokenized_sents'].apply(lambda x: [lucem_illud.normalizeTokens(s) for s in x])\n",
        "\n",
        "senReleasesDF[:100:10]"
      ]
    },
    {
      "cell_type": "code",
      "source": [
        "senReleasesW2V = gensim.models.word2vec.Word2Vec.load('senpressreleasesWORD2Vec')"
      ],
      "metadata": {
        "id": "YtQ-2_7xicvO"
      },
      "execution_count": 15,
      "outputs": []
    },
    {
      "cell_type": "code",
      "source": [
        "senReleasesDF = pd.read_csv('normalized.csv')"
      ],
      "metadata": {
        "id": "Ly5iQdteXdb5"
      },
      "execution_count": 13,
      "outputs": []
    },
    {
      "cell_type": "markdown",
      "metadata": {
        "id": "bONPTXhhO4_P"
      },
      "source": [
        "# Word2Vec\n",
        "\n",
        "We will be using the gensim implementation of [Word2Vec](https://radimrehurek.com/gensim/models/word2vec.html#gensim.models.word2vec.Word2Vec). Note that newer versions of gensim have different syntax, but if you're using a newer version, you should see informative error messages (e.g., replace `senReleasesW2V['president'][:10]` with `senReleasesW2V['president'].wv[:10]`). The following lines should work out-of-the-box on Google Colab.\n",
        "\n",
        "To load our data our data we give all the sentences to the trainer:"
      ]
    },
    {
      "cell_type": "code",
      "execution_count": null,
      "metadata": {
        "id": "HgugocsnO4_Q"
      },
      "outputs": [],
      "source": [
        "# The sg=0 argument indicates that we don't want to use \"skipgram\" but instead \"CBOW\"\n",
        "senReleasesW2V = gensim.models.word2vec.Word2Vec(senReleasesDF['normalized_sents'].sum(), sg=0)"
      ]
    },
    {
      "cell_type": "markdown",
      "metadata": {
        "id": "Tak3Q8LUO4_Q"
      },
      "source": [
        "Inside the word2vec object, each word has a vector. To access the vector directly, use the square braces (`__getitem__`) method:"
      ]
    },
    {
      "cell_type": "code",
      "execution_count": 16,
      "metadata": {
        "colab": {
          "base_uri": "https://localhost:8080/"
        },
        "id": "TEdEMgKfO4_Q",
        "outputId": "1c487470-bb1b-4aae-885b-bbab954facb9"
      },
      "outputs": [
        {
          "output_type": "execute_result",
          "data": {
            "text/plain": [
              "array([ 1.4751505 ,  0.47574607, -0.4216926 , -0.18081388, -0.61445254,\n",
              "       -0.63936013,  0.7041896 , -2.3232944 ,  1.8154129 , -1.9377967 ],\n",
              "      dtype=float32)"
            ]
          },
          "metadata": {},
          "execution_count": 16
        }
      ],
      "source": [
        "senReleasesW2V['president'][:10] #Shortening because it's very large"
      ]
    },
    {
      "cell_type": "markdown",
      "metadata": {
        "id": "9jyzU07wO4_R"
      },
      "source": [
        "If you want the full matrix, `syn0` stores all the vectors:"
      ]
    },
    {
      "cell_type": "code",
      "execution_count": 17,
      "metadata": {
        "colab": {
          "base_uri": "https://localhost:8080/"
        },
        "id": "CFtvzXXlO4_R",
        "outputId": "2eecd2ee-28d5-4697-d34d-c1d44ed08e8c"
      },
      "outputs": [
        {
          "output_type": "execute_result",
          "data": {
            "text/plain": [
              "array([[-2.8538042e-01, -6.6098690e-01,  1.3209517e-01, ...,\n",
              "        -1.4008052e+00,  2.3214713e-01,  1.4273174e-01],\n",
              "       [-1.1388142e+00,  1.7305772e+00,  1.0947129e+00, ...,\n",
              "        -9.1287047e-01,  1.9919751e+00,  5.9019071e-01],\n",
              "       [-4.1052985e-01,  1.7049183e+00,  5.0574571e-01, ...,\n",
              "        -1.2875749e+00, -1.3599203e+00,  3.8288650e-01],\n",
              "       ...,\n",
              "       [ 2.0121522e-02,  6.6274337e-02,  2.2844771e-02, ...,\n",
              "         3.2248029e-03,  1.8539310e-02,  3.2250147e-02],\n",
              "       [ 2.8126871e-02,  5.4440405e-02,  2.6282854e-02, ...,\n",
              "        -2.9893154e-02,  1.7472623e-02,  2.8668001e-02],\n",
              "       [ 4.8001907e-03,  5.1797561e-02,  5.6338511e-02, ...,\n",
              "        -3.9900586e-02,  1.9912492e-03,  2.4196032e-02]], dtype=float32)"
            ]
          },
          "metadata": {},
          "execution_count": 17
        }
      ],
      "source": [
        "senReleasesW2V.wv.syn0"
      ]
    },
    {
      "cell_type": "markdown",
      "metadata": {
        "id": "MoeGpyuoO4_R"
      },
      "source": [
        "Then, `index2word` lets you translate from the matrix to words:"
      ]
    },
    {
      "cell_type": "code",
      "execution_count": 18,
      "metadata": {
        "colab": {
          "base_uri": "https://localhost:8080/",
          "height": 35
        },
        "id": "bQjOF9YQO4_R",
        "outputId": "d9342f10-7e36-4c55-d382-52937dede992"
      },
      "outputs": [
        {
          "output_type": "execute_result",
          "data": {
            "application/vnd.google.colaboratory.intrinsic+json": {
              "type": "string"
            },
            "text/plain": [
              "'american'"
            ]
          },
          "metadata": {},
          "execution_count": 18
        }
      ],
      "source": [
        "senReleasesW2V.wv.index2word[10]"
      ]
    },
    {
      "cell_type": "markdown",
      "metadata": {
        "id": "GdPcq0HnO4_R"
      },
      "source": [
        "Now we can look at a few things that come from the word vectors. The first is to find similar vectors (cosine similarity):"
      ]
    },
    {
      "cell_type": "code",
      "execution_count": 19,
      "metadata": {
        "colab": {
          "base_uri": "https://localhost:8080/"
        },
        "id": "PTk-ppPJO4_R",
        "outputId": "cc092e10-9be6-44a1-ba72-f8c94b3c39bd"
      },
      "outputs": [
        {
          "output_type": "execute_result",
          "data": {
            "text/plain": [
              "[('administration', 0.8370641469955444),\n",
              " ('presidents', 0.786202073097229),\n",
              " ('administrations', 0.7679443359375),\n",
              " ('cheney', 0.6651495099067688),\n",
              " ('responds', 0.6417728662490845),\n",
              " ('rollback', 0.5957398414611816),\n",
              " ('ronald', 0.5827463865280151),\n",
              " ('presidential', 0.5802894234657288),\n",
              " ('speech', 0.5494263768196106),\n",
              " ('veto', 0.5491982698440552)]"
            ]
          },
          "metadata": {},
          "execution_count": 19
        }
      ],
      "source": [
        "senReleasesW2V.most_similar('president')"
      ]
    },
    {
      "cell_type": "code",
      "execution_count": 20,
      "metadata": {
        "colab": {
          "base_uri": "https://localhost:8080/"
        },
        "id": "BX7FiFnQO4_S",
        "outputId": "4e1d3e01-f052-42bb-92c9-ca25fc97c874"
      },
      "outputs": [
        {
          "output_type": "execute_result",
          "data": {
            "text/plain": [
              "[('disobedience', 0.716659665107727),\n",
              " ('wars', 0.7012227177619934),\n",
              " ('afghanistan', 0.6860700845718384),\n",
              " ('liberation', 0.680022120475769),\n",
              " ('unresisted', 0.6795251369476318),\n",
              " ('chaos', 0.6739524602890015),\n",
              " ('invasion', 0.6555619239807129),\n",
              " ('quagmire', 0.6445592641830444),\n",
              " ('battle', 0.6398695707321167),\n",
              " ('escalation', 0.6349391341209412)]"
            ]
          },
          "metadata": {},
          "execution_count": 20
        }
      ],
      "source": [
        "senReleasesW2V.most_similar('war')"
      ]
    },
    {
      "cell_type": "markdown",
      "metadata": {
        "id": "F1m-DIrhO4_S"
      },
      "source": [
        "Find which word least matches the others within a word set (cosine similarity):"
      ]
    },
    {
      "cell_type": "code",
      "execution_count": 21,
      "metadata": {
        "colab": {
          "base_uri": "https://localhost:8080/",
          "height": 35
        },
        "id": "We1tII00O4_S",
        "outputId": "fe37a315-62b2-4e1a-ae68-8719d1557ab6"
      },
      "outputs": [
        {
          "output_type": "execute_result",
          "data": {
            "application/vnd.google.colaboratory.intrinsic+json": {
              "type": "string"
            },
            "text/plain": [
              "'washington'"
            ]
          },
          "metadata": {},
          "execution_count": 21
        }
      ],
      "source": [
        "senReleasesW2V.doesnt_match(['administration', 'administrations', 'presidents', 'president', 'washington'])"
      ]
    },
    {
      "cell_type": "markdown",
      "metadata": {
        "id": "VezOjOwGO4_S"
      },
      "source": [
        "Find which word best matches the result of a semantic *equation* (here, we seek the words whose vectors best fit the missing entry from the equation: **X + Y - Z = _**."
      ]
    },
    {
      "cell_type": "code",
      "execution_count": 22,
      "metadata": {
        "colab": {
          "base_uri": "https://localhost:8080/"
        },
        "id": "jNa2-xBpO4_S",
        "outputId": "57fd45b4-a538-4776-b09e-d07b983c8ac6"
      },
      "outputs": [
        {
          "output_type": "execute_result",
          "data": {
            "text/plain": [
              "[('signed', 0.6861264109611511),\n",
              " ('veto', 0.6729453802108765),\n",
              " ('nixon', 0.663558304309845),\n",
              " ('signing', 0.6579490303993225),\n",
              " ('bush', 0.6555986404418945),\n",
              " ('reagan', 0.6551063656806946),\n",
              " ('bushs', 0.647817850112915),\n",
              " ('dwight', 0.6413978338241577),\n",
              " ('desk', 0.6377789974212646),\n",
              " ('lyndon', 0.6367199420928955)]"
            ]
          },
          "metadata": {},
          "execution_count": 22
        }
      ],
      "source": [
        "senReleasesW2V.most_similar(positive=['clinton', 'republican'], negative = ['democrat'])"
      ]
    },
    {
      "cell_type": "markdown",
      "metadata": {
        "id": "mgAMmSqWO4_T"
      },
      "source": [
        "Here we see that **Clinton + Republican - Democrat = Bush**. In other words, in this dataset, **Clinton** is to **Democrat** as **Bush** is to **Republican**. Whoah!"
      ]
    },
    {
      "cell_type": "markdown",
      "metadata": {
        "id": "ldOTaxFMO4_T"
      },
      "source": [
        "We can also save the vectors for later use:"
      ]
    },
    {
      "cell_type": "code",
      "execution_count": null,
      "metadata": {
        "id": "jxSP9SToO4_T"
      },
      "outputs": [],
      "source": [
        "senReleasesW2V.save(\"senpressreleasesWORD2Vec\")"
      ]
    },
    {
      "cell_type": "markdown",
      "metadata": {
        "id": "EBhZ3IYyO4_T"
      },
      "source": [
        "We can also use dimension reduction to visulize the vectors. We will start by selecting a subset we want to plot. Let's look at the top words from the set:"
      ]
    },
    {
      "cell_type": "code",
      "execution_count": 23,
      "metadata": {
        "id": "VOHjuek9O4_T"
      },
      "outputs": [],
      "source": [
        "numWords = 50\n",
        "targetWords = senReleasesW2V.wv.index2word[:numWords]"
      ]
    },
    {
      "cell_type": "markdown",
      "metadata": {
        "id": "yNOkqGbGO4_T"
      },
      "source": [
        "We can then extract their vectors and create our own smaller matrix that preserved the distances from the original:"
      ]
    },
    {
      "cell_type": "code",
      "execution_count": 24,
      "metadata": {
        "colab": {
          "base_uri": "https://localhost:8080/"
        },
        "id": "OmFcPFXZO4_T",
        "outputId": "22e955e5-f8f6-429c-d9da-587dc461882e"
      },
      "outputs": [
        {
          "output_type": "execute_result",
          "data": {
            "text/plain": [
              "array([[-0.28538042, -0.6609869 ,  0.13209517, ..., -1.4008052 ,\n",
              "         0.23214713,  0.14273174],\n",
              "       [-1.1388142 ,  1.7305772 ,  1.0947129 , ..., -0.91287047,\n",
              "         1.9919751 ,  0.5901907 ],\n",
              "       [-0.41052985,  1.7049183 ,  0.5057457 , ..., -1.2875749 ,\n",
              "        -1.3599203 ,  0.3828865 ],\n",
              "       ...,\n",
              "       [ 1.2845501 , -0.14374386,  1.9896708 , ..., -0.7499254 ,\n",
              "        -0.8440338 , -2.0551825 ],\n",
              "       [ 1.154864  ,  0.21944687, -0.82889056, ..., -0.9863955 ,\n",
              "         0.04310615,  1.1395123 ],\n",
              "       [-1.864894  ,  1.6342283 ,  1.7266016 , ..., -0.82247347,\n",
              "         1.4570934 , -1.1311865 ]], dtype=float32)"
            ]
          },
          "metadata": {},
          "execution_count": 24
        }
      ],
      "source": [
        "wordsSubMatrix = []\n",
        "for word in targetWords:\n",
        "    wordsSubMatrix.append(senReleasesW2V[word])\n",
        "wordsSubMatrix = np.array(wordsSubMatrix)\n",
        "wordsSubMatrix"
      ]
    },
    {
      "cell_type": "markdown",
      "metadata": {
        "id": "RbQhvMivO4_U"
      },
      "source": [
        "Then we can use PCA to reduce the dimesions (e.g., to 50), and T-SNE to project them down to the two we will visualize. We note that this is nondeterministic process, and so you can repeat and achieve alternative projectsions/visualizations of the words:"
      ]
    },
    {
      "cell_type": "code",
      "execution_count": 25,
      "metadata": {
        "id": "QDDEpg8PO4_U"
      },
      "outputs": [],
      "source": [
        "pcaWords = sklearn.decomposition.PCA(n_components = 50).fit(wordsSubMatrix)\n",
        "reducedPCA_data = pcaWords.transform(wordsSubMatrix)\n",
        "#T-SNE is theoretically better, but you should experiment\n",
        "tsneWords = sklearn.manifold.TSNE(n_components = 2).fit_transform(reducedPCA_data)"
      ]
    },
    {
      "cell_type": "markdown",
      "metadata": {
        "id": "YCGoU4pOO4_V"
      },
      "source": [
        "We now can plot the points"
      ]
    },
    {
      "cell_type": "code",
      "execution_count": 26,
      "metadata": {
        "colab": {
          "base_uri": "https://localhost:8080/",
          "height": 357
        },
        "id": "2uqjMrbzO4_V",
        "outputId": "48b59551-e580-442e-b6c1-7c78571de014"
      },
      "outputs": [
        {
          "output_type": "display_data",
          "data": {
            "image/png": "[encoded data removed]",
            "text/plain": [
              "<Figure size 720x432 with 1 Axes>"
            ]
          },
          "metadata": {}
        }
      ],
      "source": [
        "fig = plt.figure(figsize = (10,6))\n",
        "ax = fig.add_subplot(111)\n",
        "ax.set_frame_on(False)\n",
        "plt.scatter(tsneWords[:, 0], tsneWords[:, 1], alpha = 0)#Making the points invisible \n",
        "for i, word in enumerate(targetWords):\n",
        "    ax.annotate(word, (tsneWords[:, 0][i],tsneWords[:, 1][i]), size =  20 * (numWords - i) / numWords)\n",
        "plt.xticks(())\n",
        "plt.yticks(())\n",
        "plt.show()"
      ]
    },
    {
      "cell_type": "markdown",
      "metadata": {
        "id": "4wO6-QYWO4_V"
      },
      "source": [
        "My visualization above puts ``said`` next to ``congress`` and ``bill`` near ``act``. ``health`` is beside ``care`` and ``national`` abuts ``security``."
      ]
    },
    {
      "cell_type": "markdown",
      "metadata": {
        "id": "w8SGFeWSehSQ"
      },
      "source": [
        "# Chinese examples\n",
        "The following datafile is [available on Canvas](https://canvas.uchicago.edu/courses/39937/files/6674623/download). The Chinese word2vec model we use in this assignment was made with an old version of Gensim. If you have a version of '4.0.0' or later, you can run code like `!pip install gensim==3.8.3` (the last v3 of Gensim before v4) and restart your notebook to load that file. However, it's usually best to use the most recent stable versions of Python packages, so you can skip this section and go straight to the FastText section if you would like."
      ]
    },
    {
      "cell_type": "code",
      "execution_count": 27,
      "metadata": {
        "colab": {
          "base_uri": "https://localhost:8080/",
          "height": 361
        },
        "id": "1Y0a-1PeO4_V",
        "outputId": "2fb7c5b9-0732-47cb-b1c7-72363c5de8b0"
      },
      "outputs": [
        {
          "output_type": "stream",
          "name": "stdout",
          "text": [
            "Collecting gensim==3.8.3\n",
            "  Downloading gensim-3.8.3-cp37-cp37m-manylinux1_x86_64.whl (24.2 MB)\n",
            "\u001b[K     |████████████████████████████████| 24.2 MB 1.9 MB/s \n",
            "\u001b[?25hRequirement already satisfied: numpy>=1.11.3 in /usr/local/lib/python3.7/dist-packages (from gensim==3.8.3) (1.21.5)\n",
            "Requirement already satisfied: smart-open>=1.8.1 in /usr/local/lib/python3.7/dist-packages (from gensim==3.8.3) (5.2.1)\n",
            "Requirement already satisfied: six>=1.5.0 in /usr/local/lib/python3.7/dist-packages (from gensim==3.8.3) (1.15.0)\n",
            "Requirement already satisfied: scipy>=0.18.1 in /usr/local/lib/python3.7/dist-packages (from gensim==3.8.3) (1.4.1)\n",
            "Installing collected packages: gensim\n",
            "  Attempting uninstall: gensim\n",
            "    Found existing installation: gensim 3.6.0\n",
            "    Uninstalling gensim-3.6.0:\n",
            "      Successfully uninstalled gensim-3.6.0\n",
            "Successfully installed gensim-3.8.3\n"
          ]
        },
        {
          "output_type": "display_data",
          "data": {
            "application/vnd.colab-display-data+json": {
              "pip_warning": {
                "packages": [
                  "gensim"
                ]
              }
            }
          },
          "metadata": {}
        }
      ],
      "source": [
        "!pip install gensim==3.8.3"
      ]
    },
    {
      "cell_type": "code",
      "execution_count": 28,
      "metadata": {
        "colab": {
          "base_uri": "https://localhost:8080/",
          "height": 35
        },
        "id": "gpZ6KZrOyKYS",
        "outputId": "8f88d469-bc8f-46f0-8c0c-f75370ea416f"
      },
      "outputs": [
        {
          "output_type": "execute_result",
          "data": {
            "application/vnd.google.colaboratory.intrinsic+json": {
              "type": "string"
            },
            "text/plain": [
              "'3.6.0'"
            ]
          },
          "metadata": {},
          "execution_count": 28
        }
      ],
      "source": [
        "import gensim\n",
        "gensim.__version__"
      ]
    },
    {
      "cell_type": "code",
      "execution_count": null,
      "metadata": {
        "colab": {
          "base_uri": "https://localhost:8080/",
          "height": 35
        },
        "outputId": "a7836df2-414a-488d-9792-a0541c2f6776",
        "id": "P-ak6ePRO4_W"
      },
      "outputs": [
        {
          "data": {
            "text/plain": [
              "'4.0.1'"
            ]
          },
          "execution_count": 18,
          "metadata": {},
          "output_type": "execute_result"
        }
      ],
      "source": [
        "import gensim\n",
        "gensim.__version__"
      ]
    },
    {
      "cell_type": "code",
      "execution_count": 29,
      "metadata": {
        "collapsed": true,
        "id": "zNo3vDyUehSR"
      },
      "outputs": [],
      "source": [
        "# If your version is 4.0.0 or later, this code will raise `AttributeError: Can't get attribute 'Vocab'...`\n",
        "# You can load an old version of Gensim or skip to FastText.\n",
        "model=gensim.models.Word2Vec.load('1992embeddings_hs_new3.sg')"
      ]
    },
    {
      "cell_type": "markdown",
      "metadata": {
        "id": "CsEgVPQ5ehSR"
      },
      "source": [
        "## analogy\n",
        "\n",
        "King+man-Queen? A few examples based on a corpus of Chinese news. \n",
        "\n",
        "First, location analogy: **province -> capital**"
      ]
    },
    {
      "cell_type": "code",
      "execution_count": 30,
      "metadata": {
        "colab": {
          "base_uri": "https://localhost:8080/"
        },
        "id": "OGV-S0jwehSR",
        "outputId": "62ed3b28-b633-45c4-90f6-9b9b22d5eb6c"
      },
      "outputs": [
        {
          "output_type": "stream",
          "name": "stdout",
          "text": [
            "西安 0.36609965562820435\n",
            "Xi'an\n"
          ]
        }
      ],
      "source": [
        "mm = model.wv.most_similar(positive=[u'长沙',u'陕西'], negative=[u'湖南']) # Changsha + Shaanxi - Hunan\n",
        "for m in mm:\n",
        "    print(m[0],m[1])\n",
        "    print(\"Xi'an\")\n",
        "    break"
      ]
    },
    {
      "cell_type": "code",
      "execution_count": 31,
      "metadata": {
        "colab": {
          "base_uri": "https://localhost:8080/"
        },
        "id": "Y305qZtvehSR",
        "outputId": "a41a5dbe-bd31-4677-822d-8504c88e16c9"
      },
      "outputs": [
        {
          "output_type": "stream",
          "name": "stdout",
          "text": [
            "武汉 0.3677000403404236\n",
            "Wuhan\n"
          ]
        }
      ],
      "source": [
        "mm = model.wv.most_similar(positive=[u'广州',u'湖北'], negative=[u'广东']) # Guangzhou + Hubei - Guangdong\n",
        "for m in mm:\n",
        "    print(m[0],m[1])\n",
        "    print(\"Wuhan\")\n",
        "    break"
      ]
    },
    {
      "cell_type": "markdown",
      "metadata": {
        "id": "SE5L8DqPehSR"
      },
      "source": [
        "Second, location analogy: **country -> capital**"
      ]
    },
    {
      "cell_type": "code",
      "execution_count": 32,
      "metadata": {
        "colab": {
          "base_uri": "https://localhost:8080/"
        },
        "id": "vVGW1hlMehSR",
        "outputId": "e4961b68-9ff6-4c59-ba9a-b5ca68f30727"
      },
      "outputs": [
        {
          "output_type": "stream",
          "name": "stdout",
          "text": [
            "华盛顿 0.508813738822937\n",
            "(Washington DC)\n"
          ]
        }
      ],
      "source": [
        "mm = model.wv.most_similar(positive=[u'东京',u'美国'], negative=[u'日本']) # Tokyo + US - Japan\n",
        "for m in mm:\n",
        "    print(m[0],m[1])\n",
        "    print(\"(Washington DC)\")\n",
        "    break"
      ]
    },
    {
      "cell_type": "markdown",
      "metadata": {
        "id": "_AYFM1ukehSS"
      },
      "source": [
        "## similar words"
      ]
    },
    {
      "cell_type": "code",
      "execution_count": 33,
      "metadata": {
        "colab": {
          "base_uri": "https://localhost:8080/"
        },
        "id": "4pTexZipehSS",
        "outputId": "12a47bfe-cb7e-407c-f10b-164961e9489e"
      },
      "outputs": [
        {
          "output_type": "stream",
          "name": "stdout",
          "text": [
            "the most similar words to 社会主义 is: \n",
            "特色\n",
            "市场经济\n",
            "理论\n",
            "建设\n",
            "改革开放\n",
            "马克思主义\n",
            "党\n",
            "经济体制\n",
            "基本路线\n",
            "现代化\n",
            "\n"
          ]
        }
      ],
      "source": [
        "word = u'社会主义'  #socialism\n",
        "ss = model.wv.similar_by_word(word,topn=10)\n",
        "print(\"the most similar words to \" + word + \" is: \")\n",
        "for s in ss:\n",
        "    print(s[0])\n",
        "print(\"\")"
      ]
    },
    {
      "cell_type": "code",
      "execution_count": 34,
      "metadata": {
        "colab": {
          "base_uri": "https://localhost:8080/"
        },
        "id": "Edcvj0knehSS",
        "outputId": "2fed9f66-6e02-404f-c157-15a60b84e460"
      },
      "outputs": [
        {
          "output_type": "stream",
          "name": "stdout",
          "text": [
            "the most similar words to 玉米 is: \n",
            "小麦\n",
            "水稻\n",
            "作物\n",
            "棉花\n",
            "新品种\n",
            "杂交\n",
            "大豆\n",
            "增产\n",
            "栽培\n",
            "农作物\n",
            "\n"
          ]
        }
      ],
      "source": [
        "#@title\n",
        "word = u'玉米'  # corn\n",
        "ss = model.wv.similar_by_word(word,topn=10)\n",
        "print(\"the most similar words to \" + word + \" is: \")\n",
        "for s in ss:\n",
        "    print(s[0])\n",
        "print(\"\")"
      ]
    },
    {
      "cell_type": "markdown",
      "metadata": {
        "id": "2e_V1tGDpJNX"
      },
      "source": [
        "## Adding more context - FastText\n",
        "\n",
        "Since the original word2vec paper, there have followed a slew of word embedding related methods which innovate and build on them in many ways. One popular extension is FastText ([Bojanowski et al. 2017](https://arxiv.org/abs/1607.04606)), which uses sub-words to generate its vectors. Using subwords means that it is powerful in dealing with unknown words and sparse languages that otherwise have a rich morphological structure. These sub-words are incorporated into the previously skipgram and CBOW methods. For example, if the word is “which”, it is represented as the word itself along with a bag of constituent n-grams. If n=3, the representation looks like <wh, whi, hic, ich, ch>, and we learn a representation for each of these constituents, with the word “which” taking on the average value of these constituents. \n",
        "\n",
        "FastText can be used either via Gensim or the official package, and primarily has two functions - word representations, and text classification (Joulin et al. 2017). See below for code using the FastText package for playing with word representations, taken from their word representations tutorial (https://fasttext.cc/docs/en/unsupervised-tutorial.html).\n"
      ]
    },
    {
      "cell_type": "code",
      "execution_count": 35,
      "metadata": {
        "colab": {
          "base_uri": "https://localhost:8080/"
        },
        "id": "9hXjY0FPpNVq",
        "outputId": "833ae874-80e5-4922-cf02-73220d7a5379"
      },
      "outputs": [
        {
          "output_type": "stream",
          "name": "stdout",
          "text": [
            "Collecting fasttext\n",
            "  Downloading fasttext-0.9.2.tar.gz (68 kB)\n",
            "\u001b[?25l\r\u001b[K     |████▊                           | 10 kB 19.7 MB/s eta 0:00:01\r\u001b[K     |█████████▌                      | 20 kB 8.9 MB/s eta 0:00:01\r\u001b[K     |██████████████▎                 | 30 kB 7.7 MB/s eta 0:00:01\r\u001b[K     |███████████████████             | 40 kB 3.5 MB/s eta 0:00:01\r\u001b[K     |███████████████████████▉        | 51 kB 3.5 MB/s eta 0:00:01\r\u001b[K     |████████████████████████████▋   | 61 kB 4.2 MB/s eta 0:00:01\r\u001b[K     |████████████████████████████████| 68 kB 2.7 MB/s \n",
            "\u001b[?25hCollecting pybind11>=2.2\n",
            "  Using cached pybind11-2.9.1-py2.py3-none-any.whl (211 kB)\n",
            "Requirement already satisfied: setuptools>=0.7.0 in /usr/local/lib/python3.7/dist-packages (from fasttext) (57.4.0)\n",
            "Requirement already satisfied: numpy in /usr/local/lib/python3.7/dist-packages (from fasttext) (1.21.5)\n",
            "Building wheels for collected packages: fasttext\n",
            "  Building wheel for fasttext (setup.py) ... \u001b[?25l\u001b[?25hdone\n",
            "  Created wheel for fasttext: filename=fasttext-0.9.2-cp37-cp37m-linux_x86_64.whl size=3136696 sha256=0df76248a25ca4a977595724cd2dfe76bd746cd5e7c727fd2f3c9bef205f1d4a\n",
            "  Stored in directory: /root/.cache/pip/wheels/4e/ca/bf/b020d2be95f7641801a6597a29c8f4f19e38f9c02a345bab9b\n",
            "Successfully built fasttext\n",
            "Installing collected packages: pybind11, fasttext\n",
            "Successfully installed fasttext-0.9.2 pybind11-2.9.1\n"
          ]
        }
      ],
      "source": [
        "! pip install fasttext"
      ]
    },
    {
      "cell_type": "markdown",
      "metadata": {
        "id": "HqNJ5jWgpSCB"
      },
      "source": [
        "### Representations with FastText\n",
        "\n",
        "We will follow the instructions in the FastText tutorial to prepare our data, (Wikipedia). You can either follow the instructions on the page for setting the data, or download/copy it to drive it from this [Google Drive link](https://drive.google.com/file/d/12T3nNzf0a7tdhm1lVyfz9Ix9XVITFMCP/view?usp=sharing). \n",
        "\n",
        "In this example, we will be training a model - it is also possible to download and use the many pre-trained models."
      ]
    },
    {
      "cell_type": "code",
      "execution_count": 36,
      "metadata": {
        "id": "l4iWKbb8s8Na",
        "colab": {
          "base_uri": "https://localhost:8080/"
        },
        "outputId": "60a0f71a-e2c2-4931-9a69-df8afdff2081"
      },
      "outputs": [
        {
          "output_type": "stream",
          "name": "stdout",
          "text": [
            "Requirement already satisfied: fasttext in /usr/local/lib/python3.7/dist-packages (0.9.2)\n",
            "Requirement already satisfied: setuptools>=0.7.0 in /usr/local/lib/python3.7/dist-packages (from fasttext) (57.4.0)\n",
            "Requirement already satisfied: numpy in /usr/local/lib/python3.7/dist-packages (from fasttext) (1.21.5)\n",
            "Requirement already satisfied: pybind11>=2.2 in /usr/local/lib/python3.7/dist-packages (from fasttext) (2.9.1)\n"
          ]
        }
      ],
      "source": [
        "!pip install fasttext"
      ]
    },
    {
      "cell_type": "code",
      "execution_count": 37,
      "metadata": {
        "id": "o_1B3ckRpUP1"
      },
      "outputs": [],
      "source": [
        "import fasttext"
      ]
    },
    {
      "cell_type": "code",
      "execution_count": 38,
      "metadata": {
        "id": "t37MtAB4JYUb"
      },
      "outputs": [],
      "source": [
        "# Replace with the path for where you have placed the 'fil9' file.\n",
        "file_address = \"fil9\" "
      ]
    },
    {
      "cell_type": "code",
      "execution_count": 39,
      "metadata": {
        "id": "s7YqmoQEI360",
        "colab": {
          "base_uri": "https://localhost:8080/",
          "height": 297
        },
        "outputId": "71d419ad-4657-45ce-cfc7-48ae8ace3515"
      },
      "outputs": [
        {
          "output_type": "error",
          "ename": "ValueError",
          "evalue": "ignored",
          "traceback": [
            "\u001b[0;31m---------------------------------------------------------------------------\u001b[0m",
            "\u001b[0;31mValueError\u001b[0m                                Traceback (most recent call last)",
            "\u001b[0;32m<ipython-input-39-917179ebab7d>\u001b[0m in \u001b[0;36m<module>\u001b[0;34m()\u001b[0m\n\u001b[0;32m----> 1\u001b[0;31m \u001b[0mmodel\u001b[0m \u001b[0;34m=\u001b[0m \u001b[0mfasttext\u001b[0m\u001b[0;34m.\u001b[0m\u001b[0mtrain_unsupervised\u001b[0m\u001b[0;34m(\u001b[0m\u001b[0mfile_address\u001b[0m\u001b[0;34m)\u001b[0m\u001b[0;34m\u001b[0m\u001b[0;34m\u001b[0m\u001b[0m\n\u001b[0m",
            "\u001b[0;32m/usr/local/lib/python3.7/dist-packages/fasttext/FastText.py\u001b[0m in \u001b[0;36mtrain_unsupervised\u001b[0;34m(*kargs, **kwargs)\u001b[0m\n\u001b[1;32m    557\u001b[0m     \u001b[0ma\u001b[0m \u001b[0;34m=\u001b[0m \u001b[0m_build_args\u001b[0m\u001b[0;34m(\u001b[0m\u001b[0margs\u001b[0m\u001b[0;34m,\u001b[0m \u001b[0mmanually_set_args\u001b[0m\u001b[0;34m)\u001b[0m\u001b[0;34m\u001b[0m\u001b[0;34m\u001b[0m\u001b[0m\n\u001b[1;32m    558\u001b[0m     \u001b[0mft\u001b[0m \u001b[0;34m=\u001b[0m \u001b[0m_FastText\u001b[0m\u001b[0;34m(\u001b[0m\u001b[0margs\u001b[0m\u001b[0;34m=\u001b[0m\u001b[0ma\u001b[0m\u001b[0;34m)\u001b[0m\u001b[0;34m\u001b[0m\u001b[0;34m\u001b[0m\u001b[0m\n\u001b[0;32m--> 559\u001b[0;31m     \u001b[0mfasttext\u001b[0m\u001b[0;34m.\u001b[0m\u001b[0mtrain\u001b[0m\u001b[0;34m(\u001b[0m\u001b[0mft\u001b[0m\u001b[0;34m.\u001b[0m\u001b[0mf\u001b[0m\u001b[0;34m,\u001b[0m \u001b[0ma\u001b[0m\u001b[0;34m)\u001b[0m\u001b[0;34m\u001b[0m\u001b[0;34m\u001b[0m\u001b[0m\n\u001b[0m\u001b[1;32m    560\u001b[0m     \u001b[0mft\u001b[0m\u001b[0;34m.\u001b[0m\u001b[0mset_args\u001b[0m\u001b[0;34m(\u001b[0m\u001b[0mft\u001b[0m\u001b[0;34m.\u001b[0m\u001b[0mf\u001b[0m\u001b[0;34m.\u001b[0m\u001b[0mgetArgs\u001b[0m\u001b[0;34m(\u001b[0m\u001b[0;34m)\u001b[0m\u001b[0;34m)\u001b[0m\u001b[0;34m\u001b[0m\u001b[0;34m\u001b[0m\u001b[0m\n\u001b[1;32m    561\u001b[0m     \u001b[0;32mreturn\u001b[0m \u001b[0mft\u001b[0m\u001b[0;34m\u001b[0m\u001b[0;34m\u001b[0m\u001b[0m\n",
            "\u001b[0;31mValueError\u001b[0m: /content/drive/MyDrive/fil9 cannot be opened for training!"
          ]
        }
      ],
      "source": [
        "model = fasttext.train_unsupervised(file_address)"
      ]
    },
    {
      "cell_type": "markdown",
      "metadata": {
        "id": "gVdsL1O-t171"
      },
      "source": [
        "While FastText is running, the progress and estimated time to completion is shown on your screen. Once the training finishes, the model variable contains information on the trained model, which you can use for querying:\n",
        "\n"
      ]
    },
    {
      "cell_type": "code",
      "execution_count": null,
      "metadata": {
        "id": "l2NARfwxI6FL"
      },
      "outputs": [],
      "source": [
        "model.words"
      ]
    },
    {
      "cell_type": "markdown",
      "metadata": {
        "id": "F7y1Qr95t7if"
      },
      "source": [
        "It returns all words in the vocabulary, sorted by decreasing frequency. We can get the word vector by:\n",
        "\n"
      ]
    },
    {
      "cell_type": "code",
      "execution_count": null,
      "metadata": {
        "id": "7lxZJCAst4n1"
      },
      "outputs": [],
      "source": [
        "model.get_word_vector(\"the\")"
      ]
    },
    {
      "cell_type": "code",
      "execution_count": null,
      "metadata": {
        "id": "EXjgMWFCt4lE"
      },
      "outputs": [],
      "source": [
        "model.save_model(\"result/fil9.bin\")"
      ]
    },
    {
      "cell_type": "code",
      "execution_count": null,
      "metadata": {
        "id": "CznMfOVbt4iG"
      },
      "outputs": [],
      "source": [
        "# when we want to use the model again\n",
        "# model = fasttext.load_model(\"result/fil9.bin\")"
      ]
    },
    {
      "cell_type": "markdown",
      "metadata": {
        "id": "o3H_c9lVq0WQ"
      },
      "source": [
        "Let's now print some vectors."
      ]
    },
    {
      "cell_type": "code",
      "execution_count": null,
      "metadata": {
        "id": "EsAsfHyNt4e4"
      },
      "outputs": [],
      "source": [
        "[model.get_word_vector(x) for x in [\"asparagus\", \"pidgey\", \"yellow\"]]"
      ]
    },
    {
      "cell_type": "markdown",
      "metadata": {
        "id": "FAXTmBV1q_Xv"
      },
      "source": [
        "A nice feature is that you can also query for words that did not appear in your data! Indeed words are represented by the sum of their substrings. As long as the unknown word is made of known substrings, there is a representation of it!\n",
        "\n",
        "As an example let's try with a misspelled word:\n",
        "\n"
      ]
    },
    {
      "cell_type": "code",
      "execution_count": null,
      "metadata": {
        "id": "QmWu9IZsrCl-"
      },
      "outputs": [],
      "source": [
        "model.get_word_vector(\"enviroment\")"
      ]
    },
    {
      "cell_type": "code",
      "execution_count": null,
      "metadata": {
        "id": "t-Vr-pYuO4_a"
      },
      "outputs": [],
      "source": [
        "# Add FastText here"
      ]
    },
    {
      "cell_type": "markdown",
      "metadata": {
        "id": "mCC_ruIiO4_a"
      },
      "source": [
        "## <font color=\"red\">*Exercise 1*</font>\n",
        "\n",
        "<font color=\"red\">Construct cells immediately below this that embed documents related to your final project using at least two different specification of `word2vec` and/or `fasttext`, and visualize them each with two separate visualization layout specifications (e.g., TSNE, PCA). Then interrogate critical word vectors within your corpus in terms of the most similar words, analogies, and other additions and subtractions that reveal the structure of similarity and difference within your semantic space. What does this pattern reveal about the semantic organization of words in your corpora? Which estimation and visualization specification generate the most insight and appear the most robustly supported and why? \n",
        "\n",
        "<font color=\"red\">***Stretch***: Explore different vector calculations beyond addition and subtraction, such as multiplication, division or some other function. What does this exploration reveal about the semantic structure of your corpus?"
      ]
    },
    {
      "cell_type": "markdown",
      "metadata": {
        "id": "_djaIWaoO4_a"
      },
      "source": [
        "# Doc2Vec"
      ]
    },
    {
      "cell_type": "markdown",
      "metadata": {
        "collapsed": true,
        "id": "5wnbSXHkO4_a"
      },
      "source": [
        "Instead of just looking at just how words embed within in the space, we can look at how the different documents relate to each other within the space. First lets load our data--abstracts of most U.S. physics papers from the 1950s."
      ]
    },
    {
      "cell_type": "code",
      "execution_count": null,
      "metadata": {
        "id": "hP85Kv2YO4_a"
      },
      "outputs": [],
      "source": [
        "apsDF = pd.read_csv('../data/APSabstracts1950s.csv', index_col = 0)\n",
        "apsDF[:10]"
      ]
    },
    {
      "cell_type": "markdown",
      "metadata": {
        "id": "XbI3HMlgO4_a"
      },
      "source": [
        "We will load these as documents into Word2Vec, but first we need to normalize and pick some tags."
      ]
    },
    {
      "cell_type": "code",
      "execution_count": null,
      "metadata": {
        "id": "s0coP_zxO4_a"
      },
      "outputs": [],
      "source": [
        "keywords = ['photomagnetoelectric', 'quantum', 'boltzmann', 'proton', 'positron', 'feynman', 'classical', 'relativity']"
      ]
    },
    {
      "cell_type": "code",
      "execution_count": null,
      "metadata": {
        "id": "D0fmeGmPO4_b"
      },
      "outputs": [],
      "source": [
        "apsDF['tokenized_words'] = apsDF['abstract'].apply(lambda x: lucem_illud.word_tokenize(x))\n",
        "apsDF['normalized_words'] = apsDF['tokenized_words'].apply(lambda x: lucem_illud.normalizeTokens(x, lemma=False))"
      ]
    },
    {
      "cell_type": "code",
      "execution_count": null,
      "metadata": {
        "id": "5U_LKWSbO4_b"
      },
      "outputs": [],
      "source": [
        "taggedDocs = []\n",
        "for index, row in apsDF.iterrows():\n",
        "    #Just doing a simple keyword assignment\n",
        "    docKeywords = [s for s in keywords if s in row['normalized_words']]\n",
        "    docKeywords.append(row['copyrightYear'])\n",
        "    docKeywords.append(row['doi']) #This lets us extract individual documnets since doi's are unique\n",
        "    taggedDocs.append(gensim.models.doc2vec.LabeledSentence(words = row['normalized_words'], tags = docKeywords))\n",
        "apsDF['TaggedAbstracts'] = taggedDocs"
      ]
    },
    {
      "cell_type": "markdown",
      "metadata": {
        "id": "3-1xnWApO4_b"
      },
      "source": [
        "Now we can train a Doc2Vec model:"
      ]
    },
    {
      "cell_type": "code",
      "execution_count": null,
      "metadata": {
        "id": "v2PdLLI0O4_b"
      },
      "outputs": [],
      "source": [
        "apsD2V = gensim.models.doc2vec.Doc2Vec(apsDF['TaggedAbstracts'], size = 100) #Limiting to 100 dimensions"
      ]
    },
    {
      "cell_type": "markdown",
      "metadata": {
        "id": "n4FUDRY2O4_b"
      },
      "source": [
        "We can get vectors for the tags/documents, just as we did with words. Documents are actually the centroids (high dimensional average points) of their words. "
      ]
    },
    {
      "cell_type": "code",
      "execution_count": null,
      "metadata": {
        "scrolled": true,
        "id": "wOJS6n8cO4_b"
      },
      "outputs": [],
      "source": [
        "apsD2V.docvecs[1952]"
      ]
    },
    {
      "cell_type": "markdown",
      "metadata": {
        "id": "AE-ULsjGO4_b"
      },
      "source": [
        "The words can still be accessed in the same way:"
      ]
    },
    {
      "cell_type": "code",
      "execution_count": null,
      "metadata": {
        "id": "Rrqori1YO4_b"
      },
      "outputs": [],
      "source": [
        "apsD2V['atom']"
      ]
    },
    {
      "cell_type": "markdown",
      "metadata": {
        "id": "rUgPmqu4O4_b"
      },
      "source": [
        "We can still use the ``most_similar`` command to perform simple semantic equations:"
      ]
    },
    {
      "cell_type": "code",
      "execution_count": null,
      "metadata": {
        "id": "vC32cZE5O4_c"
      },
      "outputs": [],
      "source": [
        "apsD2V.most_similar(positive = ['atom','electrons'], negative = ['electron'], topn = 1)"
      ]
    },
    {
      "cell_type": "markdown",
      "metadata": {
        "id": "go9Ibt1JO4_c"
      },
      "source": [
        "This is interesting. **Electron** is to **electrons** as **atom** is to **atoms**. Another way to understand this, developed below is: **electrons - electron** induces a singular to plural dimension, so when we subtract **electron** from **atom** and add **electrons**, we get **atoms**! "
      ]
    },
    {
      "cell_type": "code",
      "execution_count": null,
      "metadata": {
        "id": "QZTW4NSZO4_c"
      },
      "outputs": [],
      "source": [
        "apsD2V.most_similar(positive = ['einstein','law'], negative = ['equation'], topn = 1)"
      ]
    },
    {
      "cell_type": "markdown",
      "metadata": {
        "id": "Hej-GUldO4_c"
      },
      "source": [
        "In other words **Einstein** minus **equation** plus **law** equals **Meissner**--Walthur Meissner studied mechanical engineering and physics ... and was more likely to produce a \"law\" than a \"equation\", like the Meissner effect, the damping of the magnetic field in superconductors. If we built our word-embedding with a bigger corpus like the entire arXiv, a massive repository of physics preprints, we would see many more such relationships like **gravity - Newton + Einstein = relativity**."
      ]
    },
    {
      "cell_type": "markdown",
      "metadata": {
        "id": "4kZZ15QvO4_c"
      },
      "source": [
        "We can also compute all of these *by hand*--explicitly wth vector algebra: "
      ]
    },
    {
      "cell_type": "code",
      "execution_count": null,
      "metadata": {
        "id": "I1FGQZ2vO4_c"
      },
      "outputs": [],
      "source": [
        "sklearn.metrics.pairwise.cosine_similarity(apsD2V['electron'].reshape(1,-1), apsD2V['positron'].reshape(1,-1))\n",
        "#We reorient the vectors with .reshape(1, -1) so that they can be computed without a warning in sklearn"
      ]
    },
    {
      "cell_type": "markdown",
      "metadata": {
        "id": "AN7uUuBEO4_c"
      },
      "source": [
        "In the doc2vec model, the documents have vectors just as the words do, so that we can compare documents with each other and also with words (similar to how a search engine locates a webpage with a query). First, we will calculate the distance between a word and documents in the dataset:"
      ]
    },
    {
      "cell_type": "code",
      "execution_count": null,
      "metadata": {
        "id": "SnrwM3m3O4_c"
      },
      "outputs": [],
      "source": [
        "apsD2V.docvecs.most_similar([ apsD2V['electron'] ], topn=5 )"
      ]
    },
    {
      "cell_type": "markdown",
      "metadata": {
        "id": "ZfaP5QKtO4_c"
      },
      "source": [
        "If we search for the first of these on the web (these are doi codes), we find the following...a pretty good match:"
      ]
    },
    {
      "cell_type": "code",
      "execution_count": null,
      "metadata": {
        "id": "Dtn4I9Z3O4_d"
      },
      "outputs": [],
      "source": [
        "from IPython.display import Image\n",
        "Image(\"../data/PhysRev.98.875.jpg\", width=1000, height=1000)"
      ]
    },
    {
      "cell_type": "markdown",
      "metadata": {
        "id": "DjMz6_0fO4_d"
      },
      "source": [
        "Now let's go the other way around and find words most similar to this document:"
      ]
    },
    {
      "cell_type": "code",
      "execution_count": null,
      "metadata": {
        "id": "hr4a2yZ7O4_d"
      },
      "outputs": [],
      "source": [
        "apsD2V.most_similar( [ apsD2V.docvecs['10.1103/PhysRev.98.875'] ], topn=5) "
      ]
    },
    {
      "cell_type": "markdown",
      "metadata": {
        "id": "zhnWpvzzO4_d"
      },
      "source": [
        "We can even look for documents most like a query composed of multiple words:"
      ]
    },
    {
      "cell_type": "code",
      "execution_count": null,
      "metadata": {
        "id": "DS7vYI2rO4_d"
      },
      "outputs": [],
      "source": [
        "apsD2V.docvecs.most_similar([ apsD2V['electron']+apsD2V['positron']+apsD2V['neutron']], topn=5 )"
      ]
    },
    {
      "cell_type": "markdown",
      "metadata": {
        "id": "FCSoq9PSO4_d"
      },
      "source": [
        "Now let's plot some words and documents against one another with a heatmap:"
      ]
    },
    {
      "cell_type": "code",
      "execution_count": null,
      "metadata": {
        "id": "6JUZm8WbO4_d"
      },
      "outputs": [],
      "source": [
        "heatmapMatrix = []\n",
        "for tagOuter in keywords:\n",
        "    column = []\n",
        "    tagVec = apsD2V.docvecs[tagOuter].reshape(1, -1)\n",
        "    for tagInner in keywords:\n",
        "        column.append(sklearn.metrics.pairwise.cosine_similarity(tagVec, apsD2V.docvecs[tagInner].reshape(1, -1))[0][0])\n",
        "    heatmapMatrix.append(column)\n",
        "heatmapMatrix = np.array(heatmapMatrix)"
      ]
    },
    {
      "cell_type": "code",
      "execution_count": null,
      "metadata": {
        "id": "jzhEglQtO4_d"
      },
      "outputs": [],
      "source": [
        "fig, ax = plt.subplots()\n",
        "hmap = ax.pcolor(heatmapMatrix, cmap='terrain')\n",
        "cbar = plt.colorbar(hmap)\n",
        "\n",
        "cbar.set_label('cosine similarity', rotation=270)\n",
        "a = ax.set_xticks(np.arange(heatmapMatrix.shape[1]) + 0.5, minor=False)\n",
        "a = ax.set_yticks(np.arange(heatmapMatrix.shape[0]) + 0.5, minor=False)\n",
        "\n",
        "a = ax.set_xticklabels(keywords, minor=False, rotation=270)\n",
        "a = ax.set_yticklabels(keywords, minor=False)"
      ]
    },
    {
      "cell_type": "markdown",
      "metadata": {
        "id": "AC6c0PMFO4_e"
      },
      "source": [
        "Now let's look at a heatmap of similarities between the first ten documents in the corpus:"
      ]
    },
    {
      "cell_type": "code",
      "execution_count": null,
      "metadata": {
        "id": "WaNbrTY-O4_e"
      },
      "outputs": [],
      "source": [
        "targetDocs = apsDF['doi'][:10]\n",
        "\n",
        "heatmapMatrixD = []\n",
        "\n",
        "for tagOuter in targetDocs:\n",
        "    column = []\n",
        "    tagVec = apsD2V.docvecs[tagOuter].reshape(1, -1)\n",
        "    for tagInner in targetDocs:\n",
        "        column.append(sklearn.metrics.pairwise.cosine_similarity(tagVec, apsD2V.docvecs[tagInner].reshape(1, -1))[0][0])\n",
        "    heatmapMatrixD.append(column)\n",
        "heatmapMatrixD = np.array(heatmapMatrixD)"
      ]
    },
    {
      "cell_type": "code",
      "execution_count": null,
      "metadata": {
        "id": "SSzmu4j4O4_e"
      },
      "outputs": [],
      "source": [
        "fig, ax = plt.subplots()\n",
        "hmap = ax.pcolor(heatmapMatrixD, cmap='terrain')\n",
        "cbar = plt.colorbar(hmap)\n",
        "\n",
        "cbar.set_label('cosine similarity', rotation=270)\n",
        "a = ax.set_xticks(np.arange(heatmapMatrixD.shape[1]) + 0.5, minor=False)\n",
        "a = ax.set_yticks(np.arange(heatmapMatrixD.shape[0]) + 0.5, minor=False)\n",
        "\n",
        "a = ax.set_xticklabels(targetDocs, minor=False, rotation=270)\n",
        "a = ax.set_yticklabels(targetDocs, minor=False)"
      ]
    },
    {
      "cell_type": "markdown",
      "metadata": {
        "id": "zzfOyt2KO4_e"
      },
      "source": [
        "Now let's look at a heatmap of similarities between the first ten documents and our keywords:"
      ]
    },
    {
      "cell_type": "code",
      "execution_count": null,
      "metadata": {
        "id": "bYICfDUzO4_e"
      },
      "outputs": [],
      "source": [
        "heatmapMatrixC = []\n",
        "\n",
        "for tagOuter in targetDocs:\n",
        "    column = []\n",
        "    tagVec = apsD2V.docvecs[tagOuter].reshape(1, -1)\n",
        "    for tagInner in keywords:\n",
        "        column.append(sklearn.metrics.pairwise.cosine_similarity(tagVec, apsD2V.docvecs[tagInner].reshape(1, -1))[0][0])\n",
        "    heatmapMatrixC.append(column)\n",
        "heatmapMatrixC = np.array(heatmapMatrixC)"
      ]
    },
    {
      "cell_type": "code",
      "execution_count": null,
      "metadata": {
        "id": "6UDDyTfOO4_e"
      },
      "outputs": [],
      "source": [
        "fig, ax = plt.subplots()\n",
        "hmap = ax.pcolor(heatmapMatrixC, cmap='terrain')\n",
        "cbar = plt.colorbar(hmap)\n",
        "\n",
        "cbar.set_label('cosine similarity', rotation=270)\n",
        "a = ax.set_xticks(np.arange(heatmapMatrixC.shape[1]) + 0.5, minor=False)\n",
        "a = ax.set_yticks(np.arange(heatmapMatrixC.shape[0]) + 0.5, minor=False)\n",
        "\n",
        "a = ax.set_xticklabels(keywords, minor=False, rotation=270)\n",
        "a = ax.set_yticklabels(targetDocs, minor=False)"
      ]
    },
    {
      "cell_type": "markdown",
      "metadata": {
        "id": "2FqiH7AgO4_e"
      },
      "source": [
        "We will save the model in case we would like to use it again."
      ]
    },
    {
      "cell_type": "code",
      "execution_count": null,
      "metadata": {
        "id": "-8jPPdQxO4_e"
      },
      "outputs": [],
      "source": [
        "apsD2V.save('apsW2V')"
      ]
    },
    {
      "cell_type": "markdown",
      "metadata": {
        "id": "r306vuihO4_f"
      },
      "source": [
        "We can later load it:"
      ]
    },
    {
      "cell_type": "code",
      "execution_count": null,
      "metadata": {
        "id": "L79ur2CNO4_f"
      },
      "outputs": [],
      "source": [
        "#apsD2V = gensim.models.word2vec.Word2Vec.load('data/apsW2V')"
      ]
    },
    {
      "cell_type": "markdown",
      "metadata": {
        "id": "Ot4nt1QkO4_f"
      },
      "source": [
        "## <font color=\"red\">*Exercise 2*</font>\n",
        "\n",
        "<font color=\"red\">Construct cells immediately below this that embed documents related to your final project using `doc2vec`, and explore the relationship between different documents and the word vectors you analyzed in the last exercise. Consider the most similar words to critical documents, analogies (doc _x_ + word _y_), and other additions and subtractions that reveal the structure of similarity and difference within your semantic space. What does this pattern reveal about the documentary organization of your semantic space?"
      ]
    },
    {
      "cell_type": "markdown",
      "metadata": {
        "id": "dXCAyzkMO4_f"
      },
      "source": [
        "# Projection"
      ]
    },
    {
      "cell_type": "markdown",
      "metadata": {
        "id": "32LkNeI0O4_f"
      },
      "source": [
        "We can also project word vectors to an arbitray semantic dimension. To demonstrate this possibility, let's first load a model trained with New York Times news articles. "
      ]
    },
    {
      "cell_type": "code",
      "execution_count": null,
      "metadata": {
        "id": "untNSajMO4_f"
      },
      "outputs": [],
      "source": [
        "nytimes_model = gensim.models.KeyedVectors.load_word2vec_format('../data/nytimes_cbow.reduced.txt')"
      ]
    },
    {
      "cell_type": "markdown",
      "metadata": {
        "id": "GZDMM3tLO4_g"
      },
      "source": [
        "First we can visualize with dimension reduction"
      ]
    },
    {
      "cell_type": "code",
      "execution_count": null,
      "metadata": {
        "id": "iNl8IJGrO4_g"
      },
      "outputs": [],
      "source": [
        "#words to create dimensions\n",
        "tnytTargetWords = ['man','him','he', 'woman', 'her', 'she', 'black','blacks','African', 'white', 'whites', 'Caucasian', 'rich', 'richer', 'richest', 'expensive', 'wealthy', 'poor', 'poorer', 'poorest', 'cheap', 'inexpensive']\n",
        "#words we will be mapping\n",
        "tnytTargetWords += [\"doctor\",\"lawyer\",\"plumber\",\"scientist\",\"hairdresser\", \"nanny\",\"carpenter\",\"entrepreneur\",\"musician\",\"writer\", \"banker\",\"poet\",\"nurse\", \"steak\", \"bacon\", \"croissant\", \"cheesecake\", \"salad\", \"cheeseburger\", \"vegetables\", \"beer\", \"wine\", \"pastry\", \"basketball\", \"baseball\", \"boxing\", \"softball\", \"volleyball\", \"tennis\", \"golf\", \"hockey\", \"soccer\"]\n",
        "\n",
        "\n",
        "wordsSubMatrix = []\n",
        "for word in tnytTargetWords:\n",
        "    wordsSubMatrix.append(nytimes_model[word])\n",
        "wordsSubMatrix = np.array(wordsSubMatrix)\n",
        "#wordsSubMatrix"
      ]
    },
    {
      "cell_type": "code",
      "execution_count": null,
      "metadata": {
        "id": "bo52Tz4JO4_g"
      },
      "outputs": [],
      "source": [
        "pcaWordsNYT = sklearn.decomposition.PCA(n_components = 50).fit(wordsSubMatrix)\n",
        "reducedPCA_dataNYT = pcaWordsNYT.transform(wordsSubMatrix)\n",
        "#T-SNE is theoretically better, but you should experiment\n",
        "tsneWordsNYT = sklearn.manifold.TSNE(n_components = 2).fit_transform(reducedPCA_dataNYT)"
      ]
    },
    {
      "cell_type": "code",
      "execution_count": null,
      "metadata": {
        "id": "bNKCaGsHO4_g"
      },
      "outputs": [],
      "source": [
        "fig = plt.figure(figsize = (20,12))\n",
        "ax = fig.add_subplot(111)\n",
        "ax.set_frame_on(False)\n",
        "plt.scatter(tsneWordsNYT[:, 0], tsneWordsNYT[:, 1], alpha = 0) #Making the points invisible\n",
        "for i, word in enumerate(tnytTargetWords):\n",
        "    ax.annotate(word, (tsneWordsNYT[:, 0][i],tsneWordsNYT[:, 1][i]), size =  50 * (len(tnytTargetWords) - i) / len(tnytTargetWords))\n",
        "plt.xticks(())\n",
        "plt.yticks(())\n",
        "plt.show()"
      ]
    },
    {
      "cell_type": "markdown",
      "metadata": {
        "id": "_zsI1L0FO4_g"
      },
      "source": [
        "Define some convenient functions for getting dimensions. "
      ]
    },
    {
      "cell_type": "code",
      "execution_count": null,
      "metadata": {
        "id": "hHo17O5iO4_g"
      },
      "outputs": [],
      "source": [
        "def normalize(vector):\n",
        "    normalized_vector = vector / np.linalg.norm(vector)\n",
        "    return normalized_vector\n",
        "\n",
        "def dimension(model, positives, negatives):\n",
        "    diff = sum([normalize(model[x]) for x in positives]) - sum([normalize(model[y]) for y in negatives])\n",
        "    return diff"
      ]
    },
    {
      "cell_type": "markdown",
      "metadata": {
        "id": "RVqdZ_ljO4_g"
      },
      "source": [
        "Let's calculate three dimensions: gender, race, and class."
      ]
    },
    {
      "cell_type": "code",
      "execution_count": null,
      "metadata": {
        "id": "lBDWHKQwO4_h"
      },
      "outputs": [],
      "source": [
        "Gender = dimension(nytimes_model, ['man','him','he'], ['woman', 'her', 'she'])\n",
        "Race = dimension(nytimes_model, ['black','blacks','African'], ['white', 'whites', 'Caucasian'])\n",
        "Class = dimension(nytimes_model, ['rich', 'richer', 'richest', 'expensive', 'wealthy'], ['poor', 'poorer', 'poorest', 'cheap', 'inexpensive'])"
      ]
    },
    {
      "cell_type": "markdown",
      "metadata": {
        "id": "5WBwKnCbO4_h"
      },
      "source": [
        "Here we have some words."
      ]
    },
    {
      "cell_type": "code",
      "execution_count": null,
      "metadata": {
        "id": "wOT2KkuEO4_h"
      },
      "outputs": [],
      "source": [
        "Occupations = [\"doctor\",\"lawyer\",\"plumber\",\"scientist\",\"hairdresser\", \"nanny\",\"carpenter\",\"entrepreneur\",\"musician\",\"writer\", \"banker\",\"poet\",\"nurse\"]\n",
        "\n",
        "Foods = [\"steak\", \"bacon\", \"croissant\", \"cheesecake\", \"salad\", \"cheeseburger\", \"vegetables\", \"beer\", \"wine\", \"pastry\"]\n",
        "\n",
        "Sports  = [\"basketball\", \"baseball\", \"boxing\", \"softball\", \"volleyball\", \"tennis\", \"golf\", \"hockey\", \"soccer\"]"
      ]
    },
    {
      "cell_type": "markdown",
      "metadata": {
        "id": "tcN8ZcNMO4_h"
      },
      "source": [
        "Define a function to project words in a word list to each of the three dimensions."
      ]
    },
    {
      "cell_type": "code",
      "execution_count": null,
      "metadata": {
        "id": "lZ0B2rJaO4_h"
      },
      "outputs": [],
      "source": [
        "def makeDF(model, word_list):\n",
        "    g = []\n",
        "    r = []\n",
        "    c = []\n",
        "    for word in word_list:\n",
        "        g.append(sklearn.metrics.pairwise.cosine_similarity(nytimes_model[word].reshape(1,-1), Gender.reshape(1,-1))[0][0])\n",
        "        r.append(sklearn.metrics.pairwise.cosine_similarity(nytimes_model[word].reshape(1,-1), Race.reshape(1,-1))[0][0])\n",
        "        c.append(sklearn.metrics.pairwise.cosine_similarity(nytimes_model[word].reshape(1,-1), Class.reshape(1,-1))[0][0])\n",
        "    df = pd.DataFrame({'gender': g, 'race': r, 'class': c}, index = word_list)\n",
        "    return df"
      ]
    },
    {
      "cell_type": "markdown",
      "metadata": {
        "id": "bG2ESKmQO4_h"
      },
      "source": [
        "Get the projections."
      ]
    },
    {
      "cell_type": "code",
      "execution_count": null,
      "metadata": {
        "id": "A56pWnEgO4_h"
      },
      "outputs": [],
      "source": [
        "OCCdf = makeDF(nytimes_model, Occupations) \n",
        "Fooddf = makeDF(nytimes_model, Foods)\n",
        "Sportsdf = makeDF(nytimes_model, Sports)"
      ]
    },
    {
      "cell_type": "markdown",
      "metadata": {
        "id": "goP1WIA8O4_h"
      },
      "source": [
        "Define some useful functions for plotting."
      ]
    },
    {
      "cell_type": "code",
      "execution_count": null,
      "metadata": {
        "id": "2mV0oc0MO4_i"
      },
      "outputs": [],
      "source": [
        "def Coloring(Series):\n",
        "    x = Series.values\n",
        "    y = x-x.min()\n",
        "    z = y/y.max()\n",
        "    c = list(plt.cm.rainbow(z))\n",
        "    return c\n",
        "\n",
        "def PlotDimension(ax,df, dim):\n",
        "    ax.set_frame_on(False)\n",
        "    ax.set_title(dim, fontsize = 20)\n",
        "    colors = Coloring(df[dim])\n",
        "    for i, word in enumerate(df.index):\n",
        "        ax.annotate(word, (0, df[dim][i]), color = colors[i], alpha = 0.6, fontsize = 12)\n",
        "    MaxY = df[dim].max()\n",
        "    MinY = df[dim].min()\n",
        "    plt.ylim(MinY,MaxY)\n",
        "    plt.yticks(())\n",
        "    plt.xticks(())"
      ]
    },
    {
      "cell_type": "markdown",
      "metadata": {
        "id": "PrE-np4WO4_i"
      },
      "source": [
        "Plot the occupational words in each of the three dimensions."
      ]
    },
    {
      "cell_type": "code",
      "execution_count": null,
      "metadata": {
        "scrolled": true,
        "id": "AgjhjIMWO4_i"
      },
      "outputs": [],
      "source": [
        "fig = plt.figure(figsize = (12,4))\n",
        "ax1 = fig.add_subplot(131)\n",
        "PlotDimension(ax1, OCCdf, 'gender')\n",
        "ax2 = fig.add_subplot(132)\n",
        "PlotDimension(ax2, OCCdf, 'race')\n",
        "ax3 = fig.add_subplot(133)\n",
        "PlotDimension(ax3, OCCdf, 'class')\n",
        "plt.show()"
      ]
    },
    {
      "cell_type": "markdown",
      "metadata": {
        "id": "fYiQcftYO4_i"
      },
      "source": [
        "Foods:"
      ]
    },
    {
      "cell_type": "code",
      "execution_count": null,
      "metadata": {
        "id": "_-hA0vfaO4_i"
      },
      "outputs": [],
      "source": [
        "fig = plt.figure(figsize = (12,4))\n",
        "ax1 = fig.add_subplot(131)\n",
        "PlotDimension(ax1, Fooddf, 'gender')\n",
        "ax2 = fig.add_subplot(132)\n",
        "PlotDimension(ax2, Fooddf, 'race')\n",
        "ax3 = fig.add_subplot(133)\n",
        "PlotDimension(ax3, Fooddf, 'class')\n",
        "plt.show()"
      ]
    },
    {
      "cell_type": "markdown",
      "metadata": {
        "id": "fr1r7OFzO4_i"
      },
      "source": [
        "Sports:"
      ]
    },
    {
      "cell_type": "code",
      "execution_count": null,
      "metadata": {
        "id": "3YyBQYukO4_i"
      },
      "outputs": [],
      "source": [
        "fig = plt.figure(figsize = (12,4))\n",
        "ax1 = fig.add_subplot(131)\n",
        "PlotDimension(ax1, Sportsdf, 'gender')\n",
        "ax2 = fig.add_subplot(132)\n",
        "PlotDimension(ax2, Sportsdf, 'race')\n",
        "ax3 = fig.add_subplot(133)\n",
        "PlotDimension(ax3, Sportsdf, 'class')\n",
        "plt.show()"
      ]
    },
    {
      "cell_type": "markdown",
      "metadata": {
        "id": "etCFE4hQO4_i"
      },
      "source": [
        "## <font color=\"red\">*Exercise 3*</font>\n",
        "\n",
        "<font color=\"red\">Construct cells immediately below this that embed documents related to your final project, then generate meaningful semantic dimensions based on your theoretical understanding of the semantic space (i.e., by subtracting semantically opposite word vectors) and project another set of word vectors onto those dimensions. Interpret the meaning of these projections for your analysis. Which of the dimensions you analyze explain the most variation in the projection of your words and why? \n",
        "\n",
        "<font color=\"red\">***Stretch***: Average together multiple antonym pairs to create robust semantic dimensions. How do word projections on these robust dimensions differ from single-pair dimensions?"
      ]
    },
    {
      "cell_type": "markdown",
      "metadata": {
        "id": "PvxNnKrZO4_j"
      },
      "source": [
        "# The Score Function\n",
        "\n",
        "The score function is a simple calculation developed by [Matt Taddy](https://arxiv.org/pdf/1504.07295.pdf) to calculate the likelihood that a given text would have been generated by a word-embedding model by summing the inner product between each pair of the text's word vectors. This relies on a few data files that are not in the git repo due to their size please download and unzip [this](https://github.com/Computational-Content-Analysis-2018/Upcoming/raw/master/data/supplement.zip) (472MB) file in the data directory.\n",
        "\n",
        "Here, we explore this using a model trained with millions of resumes from the CareerBuilder website (we can't share the private resumes...but we can share a model built with them :-):"
      ]
    },
    {
      "cell_type": "code",
      "execution_count": null,
      "metadata": {
        "id": "_UvVnSw7O4_j"
      },
      "outputs": [],
      "source": [
        "resume_model  = gensim.models.word2vec.Word2Vec.load('../data/resumeAll.model')"
      ]
    },
    {
      "cell_type": "markdown",
      "metadata": {
        "id": "XzVTAOaUO4_j"
      },
      "source": [
        "We can examine the vacabularies of this model by building a word-index map:"
      ]
    },
    {
      "cell_type": "code",
      "execution_count": null,
      "metadata": {
        "id": "DoDsQzLDO4_j"
      },
      "outputs": [],
      "source": [
        "vocab = resume_model.wv.index2word"
      ]
    },
    {
      "cell_type": "markdown",
      "metadata": {
        "id": "2FfLfINiO4_j"
      },
      "source": [
        "Let's just load the sample and take a look at it. The sentences in each job description are already tokenized and normalized."
      ]
    },
    {
      "cell_type": "code",
      "execution_count": null,
      "metadata": {
        "id": "-zvk_2WoO4_j"
      },
      "outputs": [],
      "source": [
        "sampleDF = pd.read_csv('../data/SampleJobAds.csv', index_col = False)\n",
        "#We need to convert the last couple columns from strings to lists\n",
        "sampleDF['tokenized_sents'] = sampleDF['tokenized_sents'].apply(lambda x: eval(x))\n",
        "sampleDF['normalized_sents'] = sampleDF['normalized_sents'].apply(lambda x: eval(x))\n",
        "sampleDF"
      ]
    },
    {
      "cell_type": "markdown",
      "metadata": {
        "id": "Vt-CIUeJO4_j"
      },
      "source": [
        "Let's define a function to calculate the likelihood of each job description. The idea is borrowed from [Matt Taddy](https://github.com/RaRe-Technologies/gensim/blob/develop/docs/notebooks/deepir.ipynb), who shows how a document can be characterized as the inner product of the distance between its words. In other words, this analysis will show which job ads are most likely to find an appropriate pool of workers in the resume bank that generated our word embedding.  "
      ]
    },
    {
      "cell_type": "code",
      "execution_count": null,
      "metadata": {
        "id": "dmkKesFGO4_j"
      },
      "outputs": [],
      "source": [
        "def adprob(ad, model):\n",
        "    sen_scores = model.score(ad, len(ad))\n",
        "    ad_score = sen_scores.mean()\n",
        "    return ad_score"
      ]
    },
    {
      "cell_type": "markdown",
      "metadata": {
        "id": "uVty5U11O4_k"
      },
      "source": [
        "Let's apply this function to every job description."
      ]
    },
    {
      "cell_type": "code",
      "execution_count": null,
      "metadata": {
        "id": "6Fi_LHOkO4_k"
      },
      "outputs": [],
      "source": [
        "sampleDF['likelihood'] = sampleDF['normalized_sents'].apply(lambda x: adprob(x, resume_model))"
      ]
    },
    {
      "cell_type": "markdown",
      "metadata": {
        "id": "iDyQlMLPO4_k"
      },
      "source": [
        "Let's take a look at the top 5 job descriptions that have the highest likelihood."
      ]
    },
    {
      "cell_type": "code",
      "execution_count": null,
      "metadata": {
        "id": "q36RrrXvO4_k"
      },
      "outputs": [],
      "source": [
        "for ad in sampleDF.sort_values(by = 'likelihood', ascending = False)['jobDescription'][:5]:\n",
        "    print (ad + '\\n\\n')"
      ]
    },
    {
      "cell_type": "markdown",
      "metadata": {
        "id": "99vQGjAGO4_k"
      },
      "source": [
        "Let's take a look at the bottom 5 job descriptions that have the lowest likelihood to be matched by the resumes."
      ]
    },
    {
      "cell_type": "code",
      "execution_count": null,
      "metadata": {
        "id": "yt5kLkbiO4_l"
      },
      "outputs": [],
      "source": [
        "for ad in sampleDF.sort_values(by = 'likelihood')['jobDescription'][:5]:\n",
        "    print (ad + '\\n\\n')"
      ]
    },
    {
      "cell_type": "markdown",
      "metadata": {
        "id": "Xt-EjTmzO4_l"
      },
      "source": [
        "We can do the same for phrases corresponding to job skills."
      ]
    },
    {
      "cell_type": "code",
      "execution_count": null,
      "metadata": {
        "id": "trLzOPgBO4_l"
      },
      "outputs": [],
      "source": [
        "adprob([[\"python\", \"programming\"]], resume_model)"
      ]
    },
    {
      "cell_type": "code",
      "execution_count": null,
      "metadata": {
        "id": "T14c5auRO4_l"
      },
      "outputs": [],
      "source": [
        "adprob([[\"julia\", \"programming\"]], resume_model)"
      ]
    },
    {
      "cell_type": "markdown",
      "metadata": {
        "id": "xWZX_rD8O4_l"
      },
      "source": [
        "Basic programming appears to be more likely in this pool of resumes than python programming. \n",
        "\n",
        "We can also do some simple statistics. Unfortunately, we don't have a large sample here. Nevertheless, let's first look at the mean likelihood score of each hiring organization. Some organizations will do well to hire on CareerBuilder...while others will not."
      ]
    },
    {
      "cell_type": "code",
      "execution_count": null,
      "metadata": {
        "id": "PCgrcfg4O4_l"
      },
      "outputs": [],
      "source": [
        "sampleDF.groupby(\"hiringOrganization_organizationName\")[['likelihood']].mean().sort_values('likelihood', ascending = False)"
      ]
    },
    {
      "cell_type": "markdown",
      "metadata": {
        "id": "sA232KZhO4_l"
      },
      "source": [
        "We can also look at the mean likelihood of each state."
      ]
    },
    {
      "cell_type": "code",
      "execution_count": null,
      "metadata": {
        "id": "bAWlNWPsO4_m"
      },
      "outputs": [],
      "source": [
        "sampleDF.groupby(\"jobLocation_address_region\")[['likelihood']].mean().sort_values('likelihood', ascending = False)"
      ]
    },
    {
      "cell_type": "markdown",
      "metadata": {
        "id": "rI-0U8JCO4_m"
      },
      "source": [
        "You would increase the sample size if you want to do a more serious study.\n",
        "\n",
        "## <font color=\"red\">*Exercise 4a*</font>\n",
        "\n",
        "<font color=\"red\">**Do only 4a or 4b.** Construct cells immediately below this that calculate the scores for a small sample of documents from outside your corpus to identify which are *closest* to your corpus. Then calculate the scores for a few phrases or sentences to identify the ones most likely to have appeared in your corpus. Interrogate patterns associated with these document/phrase scores (e.g., which companies produced job ads most or least likely to find jobseekers in the resume corpus?) What do these patterns suggest about the boundaries of your corpus?"
      ]
    },
    {
      "cell_type": "markdown",
      "metadata": {
        "id": "Tw6TMeuEO4_m"
      },
      "source": [
        "# Linguistic Change or Difference\n",
        "\n",
        "Below is code that aligns the dimensions of multiple embeddings arrayed over time or some other dimension and allow identification of semantic chanage as the word vectors change their loadings for focal words. This code comes from the approach piloted at Stanford by William Hamilton, Daniel Jurafsky and Jure Lescovec [here](https://arxiv.org/pdf/1605.09096.pdf). "
      ]
    },
    {
      "cell_type": "code",
      "execution_count": null,
      "metadata": {
        "id": "_cVTKrGuO4_m"
      },
      "outputs": [],
      "source": [
        "import copy"
      ]
    },
    {
      "cell_type": "code",
      "execution_count": null,
      "metadata": {
        "id": "m8mHkrw_O4_m"
      },
      "outputs": [],
      "source": [
        "def calc_syn0norm(model):\n",
        "    \"\"\"since syn0norm is now depricated\"\"\"\n",
        "    return (model.wv.syn0 / np.sqrt((model.wv.syn0 ** 2).sum(-1))[..., np.newaxis]).astype(np.float32)\n",
        "\n",
        "def smart_procrustes_align_gensim(base_embed, other_embed, words=None):\n",
        "    \"\"\"Procrustes align two gensim word2vec models (to allow for comparison between same word across models).\n",
        "    Code ported from HistWords <https://github.com/williamleif/histwords> by William Hamilton <wleif@stanford.edu>.\n",
        "    (With help from William. Thank you!)\n",
        "    First, intersect the vocabularies (see `intersection_align_gensim` documentation).\n",
        "    Then do the alignment on the other_embed model.\n",
        "    Replace the other_embed model's syn0 and syn0norm numpy matrices with the aligned version.\n",
        "    Return other_embed.\n",
        "    If `words` is set, intersect the two models' vocabulary with the vocabulary in words (see `intersection_align_gensim` documentation).\n",
        "    \"\"\"\n",
        "    base_embed = copy.copy(base_embed)\n",
        "    other_embed = copy.copy(other_embed)\n",
        "    # make sure vocabulary and indices are aligned\n",
        "    in_base_embed, in_other_embed = intersection_align_gensim(base_embed, other_embed, words=words)\n",
        "\n",
        "    # get the embedding matrices\n",
        "    base_vecs = calc_syn0norm(in_base_embed)\n",
        "    other_vecs = calc_syn0norm(in_other_embed)\n",
        "\n",
        "    # just a matrix dot product with numpy\n",
        "    m = other_vecs.T.dot(base_vecs) \n",
        "    # SVD method from numpy\n",
        "    u, _, v = np.linalg.svd(m)\n",
        "    # another matrix operation\n",
        "    ortho = u.dot(v) \n",
        "    # Replace original array with modified one\n",
        "    # i.e. multiplying the embedding matrix (syn0norm)by \"ortho\"\n",
        "    other_embed.wv.syn0norm = other_embed.wv.syn0 = (calc_syn0norm(other_embed)).dot(ortho)\n",
        "    return other_embed\n",
        "    \n",
        "def intersection_align_gensim(m1,m2, words=None):\n",
        "    \"\"\"\n",
        "    Intersect two gensim word2vec models, m1 and m2.\n",
        "    Only the shared vocabulary between them is kept.\n",
        "    If 'words' is set (as list or set), then the vocabulary is intersected with this list as well.\n",
        "    Indices are re-organized from 0..N in order of descending frequency (=sum of counts from both m1 and m2).\n",
        "    These indices correspond to the new syn0 and syn0norm objects in both gensim models:\n",
        "        -- so that Row 0 of m1.syn0 will be for the same word as Row 0 of m2.syn0\n",
        "        -- you can find the index of any word on the .index2word list: model.index2word.index(word) => 2\n",
        "    The .vocab dictionary is also updated for each model, preserving the count but updating the index.\n",
        "    \"\"\"\n",
        "\n",
        "    # Get the vocab for each model\n",
        "    vocab_m1 = set(m1.wv.vocab.keys())\n",
        "    vocab_m2 = set(m2.wv.vocab.keys())\n",
        "\n",
        "    # Find the common vocabulary\n",
        "    common_vocab = vocab_m1&vocab_m2\n",
        "    if words: common_vocab&=set(words)\n",
        "\n",
        "    # If no alignment necessary because vocab is identical...\n",
        "    if not vocab_m1-common_vocab and not vocab_m2-common_vocab:\n",
        "        return (m1,m2)\n",
        "\n",
        "    # Otherwise sort by frequency (summed for both)\n",
        "    common_vocab = list(common_vocab)\n",
        "    common_vocab.sort(key=lambda w: m1.wv.vocab[w].count + m2.wv.vocab[w].count,reverse=True)\n",
        "\n",
        "    # Then for each model...\n",
        "    for m in [m1,m2]:\n",
        "        # Replace old syn0norm array with new one (with common vocab)\n",
        "        indices = [m.wv.vocab[w].index for w in common_vocab]\n",
        "        old_arr = calc_syn0norm(m)\n",
        "        new_arr = np.array([old_arr[index] for index in indices])\n",
        "        m.wv.syn0norm = m.wv.syn0 = new_arr\n",
        "\n",
        "        # Replace old vocab dictionary with new one (with common vocab)\n",
        "        # and old index2word with new one\n",
        "        m.index2word = common_vocab\n",
        "        old_vocab = m.wv.vocab\n",
        "        new_vocab = {}\n",
        "        for new_index,word in enumerate(common_vocab):\n",
        "            old_vocab_obj=old_vocab[word]\n",
        "            new_vocab[word] = gensim.models.word2vec.Vocab(index=new_index, count=old_vocab_obj.count)\n",
        "        m.wv.vocab = new_vocab\n",
        "\n",
        "    return (m1,m2)"
      ]
    },
    {
      "cell_type": "markdown",
      "metadata": {
        "id": "UGRghxROO4_m"
      },
      "source": [
        "In order to explore this, let's get some data that follows a time trend. We'll look at conference proceedings from the American Society for Clinical Oncologists."
      ]
    },
    {
      "cell_type": "code",
      "execution_count": null,
      "metadata": {
        "id": "mdxPPNECO4_m"
      },
      "outputs": [],
      "source": [
        "ascoDF = pd.read_csv(\"../data/ASCO_abstracts.csv\", index_col=0)"
      ]
    },
    {
      "cell_type": "markdown",
      "metadata": {
        "id": "VtAx6MIfO4_n"
      },
      "source": [
        "Prepare for wor2vec:"
      ]
    },
    {
      "cell_type": "code",
      "execution_count": null,
      "metadata": {
        "id": "DZ8KSR8mO4_n"
      },
      "outputs": [],
      "source": [
        "ascoDF['tokenized_sents'] = ascoDF['Body'].apply(lambda x: [lucem_illud.word_tokenize(s) for s in lucem_illud.sent_tokenize(x)])\n",
        "ascoDF['normalized_sents'] = ascoDF['tokenized_sents'].apply(lambda x: [lucem_illud.normalizeTokens(s) for s in x])"
      ]
    },
    {
      "cell_type": "code",
      "execution_count": null,
      "metadata": {
        "id": "lb5Qak2SO4_n"
      },
      "outputs": [],
      "source": [
        "ascoDF"
      ]
    },
    {
      "cell_type": "markdown",
      "metadata": {
        "id": "8Mc5vWwwO4_n"
      },
      "source": [
        "We will be creating many embeddings so we have created this function to do most of the work. It creates two collections of embeddings, one the original and one the aligned."
      ]
    },
    {
      "cell_type": "code",
      "execution_count": null,
      "metadata": {
        "id": "7sE1Mr6SO4_n"
      },
      "outputs": [],
      "source": [
        "def compareModels(df, category, text_column_name='normalized_sents', sort = True, embeddings_raw={}):\n",
        "    \"\"\"If you are using time as your category sorting is important\"\"\"\n",
        "    if len(embeddings_raw) == 0:\n",
        "        embeddings_raw = rawModels(df, category, text_column_name, sort)\n",
        "    cats = sorted(set(df[category]))\n",
        "    #These are much quicker\n",
        "    embeddings_aligned = {}\n",
        "    for catOuter in cats:\n",
        "        embeddings_aligned[catOuter] = [embeddings_raw[catOuter]]\n",
        "        for catInner in cats:\n",
        "            embeddings_aligned[catOuter].append(smart_procrustes_align_gensim(embeddings_aligned[catOuter][-1], embeddings_raw[catInner]))\n",
        "    return embeddings_raw, embeddings_aligned"
      ]
    },
    {
      "cell_type": "code",
      "execution_count": null,
      "metadata": {
        "id": "q6KZ1PifO4_o"
      },
      "outputs": [],
      "source": [
        "def rawModels(df, category, text_column_name='normalized_sents', sort = True):\n",
        "    embeddings_raw = {}\n",
        "    cats = sorted(set(df[category]))\n",
        "    for cat in cats:\n",
        "        #This can take a while\n",
        "        print(\"Embedding {}\".format(cat), end = '\\r')\n",
        "        subsetDF = df[df[category] == cat]\n",
        "        #You might want to change the W2V parameters\n",
        "        embeddings_raw[cat] = gensim.models.word2vec.Word2Vec(subsetDF[text_column_name].sum())\n",
        "    return embeddings_raw"
      ]
    },
    {
      "cell_type": "markdown",
      "metadata": {
        "id": "8bfgq2LwO4_o"
      },
      "source": [
        "Now we generate the models:"
      ]
    },
    {
      "cell_type": "code",
      "execution_count": null,
      "metadata": {
        "id": "NezQNxu4O4_o"
      },
      "outputs": [],
      "source": [
        "rawEmbeddings, comparedEmbeddings = compareModels(ascoDF, 'Year')"
      ]
    },
    {
      "cell_type": "code",
      "execution_count": null,
      "metadata": {
        "id": "W0rIcbOqO4_o"
      },
      "outputs": [],
      "source": [
        "rawEmbeddings.keys()"
      ]
    },
    {
      "cell_type": "markdown",
      "metadata": {
        "id": "HZSOEoyBO4_o"
      },
      "source": [
        "We need to compare them across all permutions so we will define another function to help, we will be using 1 - cosine similarity as that gives a more intitive range of 0-2 with low values meaning little change and high meaning lots of change."
      ]
    },
    {
      "cell_type": "code",
      "execution_count": null,
      "metadata": {
        "id": "BCeP79_XO4_o"
      },
      "outputs": [],
      "source": [
        "def getDivergenceDF(word, embeddingsDict):\n",
        "    dists = []\n",
        "    cats = sorted(set(embeddingsDict.keys()))\n",
        "    dists = {}\n",
        "    print(word)\n",
        "    for cat in cats:\n",
        "        dists[cat] = []\n",
        "        for embed in embeddingsDict[cat][1:]:\n",
        "            dists[cat].append(np.abs(1 - sklearn.metrics.pairwise.cosine_similarity(np.expand_dims(embeddingsDict[cat][0][word], axis = 0),\n",
        "                                                                             np.expand_dims(embed[word], axis = 0))[0,0]))\n",
        "    return pd.DataFrame(dists, index = cats)"
      ]
    },
    {
      "cell_type": "markdown",
      "metadata": {
        "id": "mOs6R4RUO4_p"
      },
      "source": [
        "Lets look at a couple words:"
      ]
    },
    {
      "cell_type": "code",
      "execution_count": null,
      "metadata": {
        "id": "zeo65n5wO4_p"
      },
      "outputs": [],
      "source": [
        "targetWord = 'breast'\n",
        "\n",
        "pltDF = getDivergenceDF(targetWord, comparedEmbeddings)\n",
        "fig, ax = plt.subplots(figsize = (10, 7))\n",
        "seaborn.heatmap(pltDF, ax = ax, annot = False) #set annot True for a lot more information\n",
        "ax.set_xlabel(\"Starting year\")\n",
        "ax.set_ylabel(\"Final year\")\n",
        "ax.set_ylabel(\"Final year\")\n",
        "ax.set_title(\"Yearly linguistic change for: '{}'\".format(targetWord))\n",
        "plt.show()"
      ]
    },
    {
      "cell_type": "code",
      "execution_count": null,
      "metadata": {
        "id": "WoX4H2hMO4_p"
      },
      "outputs": [],
      "source": [
        "targetWord = 'combination'\n",
        "\n",
        "pltDF = getDivergenceDF(targetWord, comparedEmbeddings)\n",
        "fig, ax = plt.subplots(figsize = (10, 7))\n",
        "seaborn.heatmap(pltDF, ax = ax, annot = False) #set annot True for a lot more information\n",
        "ax.set_xlabel(\"Starting year\")\n",
        "ax.set_ylabel(\"Final year\")\n",
        "ax.set_ylabel(\"Final year\")\n",
        "ax.set_title(\"Yearly linguistic change for: '{}'\".format(targetWord))\n",
        "plt.show()"
      ]
    },
    {
      "cell_type": "code",
      "execution_count": null,
      "metadata": {
        "id": "61ZEyzK8O4_p"
      },
      "outputs": [],
      "source": [
        "def findDiverence(word, embeddingsDict):\n",
        "    cats = sorted(set(embeddingsDict.keys()))\n",
        "    \n",
        "    dists = []\n",
        "    for embed in embeddingsDict[cats[0]][1:]:\n",
        "        dists.append(1 - sklearn.metrics.pairwise.cosine_similarity(np.expand_dims(embeddingsDict[cats[0]][0][word], axis = 0), np.expand_dims(embed[word], axis = 0))[0,0])\n",
        "    return sum(dists)\n",
        "\n",
        "def findMostDivergent(embeddingsDict):\n",
        "    words = []\n",
        "    for embeds in embeddingsDict.values():\n",
        "        for embed in embeds:\n",
        "            words += list(embed.wv.vocab.keys())\n",
        "    words = set(words)\n",
        "    print(\"Found {} words to compare\".format(len(words)))\n",
        "    return sorted([(w, findDiverence(w, embeddingsDict)) for w in words], key = lambda x: x[1], reverse=True)\n",
        "    "
      ]
    },
    {
      "cell_type": "code",
      "execution_count": null,
      "metadata": {
        "id": "xT6-slNYO4_p"
      },
      "outputs": [],
      "source": [
        "wordDivergences = findMostDivergent(comparedEmbeddings)"
      ]
    },
    {
      "cell_type": "markdown",
      "metadata": {
        "id": "fcZ3ZhNLO4_p"
      },
      "source": [
        "The most divergent words are:"
      ]
    },
    {
      "cell_type": "code",
      "execution_count": null,
      "metadata": {
        "id": "TbHEcu7sO4_p"
      },
      "outputs": [],
      "source": [
        "wordDivergences[:20]"
      ]
    },
    {
      "cell_type": "markdown",
      "metadata": {
        "id": "cfdrJLIlO4_q"
      },
      "source": [
        "And the least:"
      ]
    },
    {
      "cell_type": "code",
      "execution_count": null,
      "metadata": {
        "id": "HTkXDprRO4_q"
      },
      "outputs": [],
      "source": [
        "wordDivergences[-20:]"
      ]
    },
    {
      "cell_type": "code",
      "execution_count": null,
      "metadata": {
        "id": "kPVCTeKoO4_q"
      },
      "outputs": [],
      "source": [
        "targetWord = wordDivergences[0][0]\n",
        "\n",
        "pltDF = getDivergenceDF(targetWord, comparedEmbeddings)\n",
        "fig, ax = plt.subplots(figsize = (10, 7))\n",
        "seaborn.heatmap(pltDF, ax = ax, annot = False) #set annot True for a lot more information\n",
        "ax.set_xlabel(\"Starting year\")\n",
        "ax.set_ylabel(\"Final year\")\n",
        "ax.set_ylabel(\"Final year\")\n",
        "ax.set_title(\"Yearly linguistic change for: '{}'\".format(targetWord))\n",
        "plt.show()"
      ]
    },
    {
      "cell_type": "code",
      "execution_count": null,
      "metadata": {
        "id": "Ul_meFq1O4_q"
      },
      "outputs": [],
      "source": [
        "targetWord = wordDivergences[-1][0]\n",
        "\n",
        "pltDF = getDivergenceDF(targetWord, comparedEmbeddings)\n",
        "fig, ax = plt.subplots(figsize = (10, 7))\n",
        "seaborn.heatmap(pltDF, ax = ax, annot = False) #set annot True for a lot more information\n",
        "ax.set_xlabel(\"Starting year\")\n",
        "ax.set_ylabel(\"Final year\")\n",
        "ax.set_ylabel(\"Final year\")\n",
        "ax.set_title(\"Yearly linguistic change for: '{}'\".format(targetWord))\n",
        "plt.show()"
      ]
    },
    {
      "cell_type": "markdown",
      "metadata": {
        "id": "apRjeoYpO4_q"
      },
      "source": [
        "## COHA\n",
        "\n",
        "COHA is a historial dataset so it ends up being a good choice to try the same analysis we just did across three different time periods.\n",
        "\n",
        "We will be using the same data loading procedure as the last notebook, so go through the process to make sure you know what's going on."
      ]
    },
    {
      "cell_type": "code",
      "execution_count": null,
      "metadata": {
        "id": "PlMUsJOsO4_q"
      },
      "outputs": [],
      "source": [
        "corpora_address = \"/Users/bhargavvader/Downloads/Academics_Tech/corpora/COHA\""
      ]
    },
    {
      "cell_type": "code",
      "execution_count": null,
      "metadata": {
        "id": "F84DO4TeO4_q"
      },
      "outputs": [],
      "source": [
        "coha_texts = lucem_illud.loadDavies(corpora_address, return_raw=True)"
      ]
    },
    {
      "cell_type": "markdown",
      "metadata": {
        "id": "tbIiUhStO4_q"
      },
      "source": [
        "Cool - let us now create our different epochs. This is an important step: I will be using the same 5 epochs I did in the DTM example, but you are recommended to play around with this. I will create a dataframe which logs the year and the genre."
      ]
    },
    {
      "cell_type": "code",
      "execution_count": null,
      "metadata": {
        "id": "foTN9IXwO4_q"
      },
      "outputs": [],
      "source": [
        "coha_df = pd.DataFrame(columns=[\"Year\", \"Genre\", \"Epoch\", \"normalized sents\"])"
      ]
    },
    {
      "cell_type": "code",
      "execution_count": null,
      "metadata": {
        "id": "3S-kuppAO4_r"
      },
      "outputs": [],
      "source": [
        "for article in coha_texts:\n",
        "    genre, year, id_ = article.split(\"_\")\n",
        "\n",
        "    year = int(year)\n",
        "    \n",
        "    if year > 1810 and year < 1880:\n",
        "        epoch = 0\n",
        "    if year >= 1880 and year < 1913:\n",
        "        epoch = 1\n",
        "    if year >= 1913 and year < 1950:\n",
        "        epoch = 2\n",
        "    if year >= 1950 and year < 1990:\n",
        "        epoch = 3\n",
        "    if year >= 1990:\n",
        "        epoch = 4\n",
        "    \n",
        "    try:\n",
        "        if len(coha_texts[article][2]) < 1500000:\n",
        "            coha_df.loc[id_] = [year, genre, epoch, lucem_illud.normalizeTokens(coha_texts[article][2].decode(\"utf-8\"), lemma=False)]\n",
        "    except TypeError:\n",
        "        continue\n",
        "    except IndexError:\n",
        "        continue"
      ]
    },
    {
      "cell_type": "markdown",
      "metadata": {
        "id": "hWeaZZ-_O4_r"
      },
      "source": [
        "We can now arrange our word embeddings by either year, genre, or epoch, and see how the words in each of those contexts change."
      ]
    },
    {
      "cell_type": "code",
      "execution_count": null,
      "metadata": {
        "id": "Kn7mC252O4_r"
      },
      "outputs": [],
      "source": [
        "rawEmbeddings_epoch = rawModels(coha_df, 'Epoch', text_column_name='normalized sents')"
      ]
    },
    {
      "cell_type": "code",
      "execution_count": null,
      "metadata": {
        "id": "Rl1McLNNO4_r"
      },
      "outputs": [],
      "source": [
        "# rawEmbeddings_genre = rawModels(coha_df, 'Genre', text_column_name='normalized sents')"
      ]
    },
    {
      "cell_type": "markdown",
      "metadata": {
        "id": "0mFsMdsGO4_r"
      },
      "source": [
        "We now have the raw embeddings for epoch and genre. You can test out the previous analysis on words of your choice."
      ]
    },
    {
      "cell_type": "code",
      "execution_count": null,
      "metadata": {
        "id": "29PvvZ-VO4_r"
      },
      "outputs": [],
      "source": [
        "for epoch, embedding in enumerate(rawEmbeddings_epoch):\n",
        "    model = rawEmbeddings_epoch[embedding]\n",
        "    name = \"embedding_epoch_\" + str(epoch)\n",
        "    model.save(name)"
      ]
    },
    {
      "cell_type": "code",
      "execution_count": null,
      "metadata": {
        "id": "togTrmycO4_r"
      },
      "outputs": [],
      "source": [
        "# for embedding in rawEmbeddings_genre:\n",
        "#     model = rawEmbeddings_genre[embedding]\n",
        "#     name = \"embedding_genre_\" + embedding\n",
        "#     model.save(name)"
      ]
    },
    {
      "cell_type": "code",
      "execution_count": null,
      "metadata": {
        "id": "Z0n8xrr5O4_r"
      },
      "outputs": [],
      "source": [
        "from gensim.models import Word2Vec"
      ]
    },
    {
      "cell_type": "code",
      "execution_count": null,
      "metadata": {
        "id": "mqfER74TO4_r"
      },
      "outputs": [],
      "source": [
        "def file_to_embeddings(address, kind):\n",
        "    rawEmbeddings = {}\n",
        "    for file in os.listdir(address):\n",
        "        if \"embedding_\"+kind in file:\n",
        "            e, kind_, kind_type = file.split(\"_\")\n",
        "            kind_type = eval(kind_type)\n",
        "            rawEmbeddings[kind_type] = Word2Vec.load(file)\n",
        "    return rawEmbeddings"
      ]
    },
    {
      "cell_type": "code",
      "execution_count": null,
      "metadata": {
        "id": "_6_5zF7HO4_s"
      },
      "outputs": [],
      "source": [
        "# rawEmbeddings_genre_load = file_to_embeddings(\".\", \"genre\")"
      ]
    },
    {
      "cell_type": "code",
      "execution_count": null,
      "metadata": {
        "id": "jAW6S6_LO4_s"
      },
      "outputs": [],
      "source": [
        "rawEmbeddings_epoch_load = file_to_embeddings(\".\", \"epoch\")"
      ]
    },
    {
      "cell_type": "code",
      "execution_count": null,
      "metadata": {
        "id": "8tCCN-PuO4_s"
      },
      "outputs": [],
      "source": [
        "rawEmbeddings_epoch_load.keys()"
      ]
    },
    {
      "cell_type": "code",
      "execution_count": null,
      "metadata": {
        "id": "2Gtpb87TO4_s"
      },
      "outputs": [],
      "source": [
        "rawEmbeddings_epoch, compared_epoch = compareModels(coha_df, 'Epoch', text_column_name='normalized sents', embeddings_raw=rawEmbeddings_epoch_load)"
      ]
    },
    {
      "cell_type": "code",
      "execution_count": null,
      "metadata": {
        "id": "vA7pddh8O4_s"
      },
      "outputs": [],
      "source": [
        "# rawEmbeddings_genre, compared_genre = compareModels(coha_df, 'Genre', text_column_name='normalized sents', embeddings_raw=rawEmbeddings_genre_load)"
      ]
    },
    {
      "cell_type": "markdown",
      "metadata": {
        "id": "eKhNq7HoO4_s"
      },
      "source": [
        "You now have access to the epoch wise embeddings, and the code to train models genre wise (commented out). You can use the original embeddings, the compared embeddings and such to perform the analysis we did before."
      ]
    },
    {
      "cell_type": "markdown",
      "metadata": {
        "id": "Xdpu6SWpO4_s"
      },
      "source": [
        "## <font color=\"red\">*Exercise 4b*</font>\n",
        "\n",
        "<font color=\"red\">**Do only 4a or 4b.** Construct cells immediately below this that align word embeddings over time or across domains/corpora. Interrogate the spaces that result and ask which words changed most and least over the entire period or between contexts/corpora. What does this reveal about the social game underlying your space? "
      ]
    },
    {
      "cell_type": "markdown",
      "metadata": {
        "id": "sMdpEKc7O4_s"
      },
      "source": [
        "There is much more we do not have time to cover on word embeddings. If you are interested in other ways to align word embeddings, take a look at the [Dynamic Word Embeddings (DTM) section from the Thinking with Deep Learning course](https://colab.research.google.com/drive/1RAiI3BIL1X9D4gzZ0rZdIJjkNNicIuKE?usp=sharing#scrollTo=COS_n2RFCJNk) or using the more recent [Temporal Word Embeddings with a Compass (TWEC) package](https://github.com/valedica/twec). There is also a useful section on [debiasing word embeddings](https://colab.research.google.com/drive/1RAiI3BIL1X9D4gzZ0rZdIJjkNNicIuKE?usp=sharing#scrollTo=JHQ--EsWoxGM), such as the famous, [\"Man is to Computer Programmer as Woman is to Homemaker? Debiasing Word Embeddings\"](https://arxiv.org/abs/1607.06520) paper. Below, we include an optional section on topic modeling with word embeddings, which could be useful for final projects."
      ]
    },
    {
      "cell_type": "markdown",
      "metadata": {
        "id": "CeCZlXXfvUPs"
      },
      "source": [
        "## Optional: Topic modeling with word embeddings\n",
        "\n",
        "Recently computer scientists have developed methods to cluster word embeddings, which can be viewed as a topic model, an embedding-based version of conventional topic models that use the document-term matrix (e.g., LDA). One method is Discourse Atoms, first described by Princeton NLP researchers ([Arora et al. 2018](https://arxiv.org/abs/1601.03764)). This uses k-SVD, a generalization of the k-means clustering algorithm to identify topic-like vectors in the n-dimensional word embedding space. Below is code adapted from the first social science paper using Discourse Atoms, [Arseniev-Koehler et al. 2021](https://osf.io/preprints/socarxiv/nkyaq/). It takes as input _gensim_ word vectors.\n",
        "\n",
        "You are not required to implement this, but for class projects or your own research, this can be more useful than conventional topic models. It runs faster, produces more detailed topics, and in general makes use of more information (i.e., word order within a document) than do conventional topic models. Note there are at least 4 other papers with methods for word embedding clusters:\n",
        "\n",
        "- Xun, Li, Zhao, Gao, and Zhang 2017: [multivariate Gaussian distributions](https://www.ijcai.org/proceedings/2017/588)\n",
        "- Dieng, Ruiz, and Blei 2019: [\"Embedding Topic Model (ETM)\"](https://arxiv.org/abs/1907.04907)\n",
        "- Angelov 2020: [\"Top2Vec\"](https://arxiv.org/abs/2008.09470)\n",
        "- Sia, Dalmia, and Mielke 2020: [(spherical) k-means, k-medoids, von Mises-Fisher Models, Gaussian Mixture Models](https://arxiv.org/abs/2004.14914)\n",
        "\n",
        "Let's implement the Discourse Atoms method."
      ]
    },
    {
      "cell_type": "code",
      "execution_count": null,
      "metadata": {
        "id": "qBHMqKnk_JkC"
      },
      "outputs": [],
      "source": [
        "# from gensim.test.utils import datapath \n",
        "# import re\n",
        "# import string, re\n",
        "# import cython"
      ]
    },
    {
      "cell_type": "code",
      "execution_count": null,
      "metadata": {
        "id": "0rhM3yfuALJQ"
      },
      "outputs": [],
      "source": [
        "# The ksvd package has a convenient Approximate k-SVD function.\n",
        "!pip install ksvd"
      ]
    },
    {
      "cell_type": "code",
      "execution_count": null,
      "metadata": {
        "id": "v5y1spof_MCs"
      },
      "outputs": [],
      "source": [
        "from gensim import corpora, models, similarities #calc all similarities at once, from http://radimrehurek.com/gensim/tut3.html\n",
        "from sklearn.metrics.pairwise import cosine_similarity\n",
        "from gensim.models import KeyedVectors\n",
        "from random import seed, sample\n",
        "from ksvd import ApproximateKSVD #pip or conda install ksvd #this is key!"
      ]
    },
    {
      "cell_type": "code",
      "execution_count": null,
      "metadata": {
        "id": "zietHqDPF5uT"
      },
      "outputs": [],
      "source": [
        "import pickle"
      ]
    },
    {
      "cell_type": "code",
      "execution_count": null,
      "metadata": {
        "id": "wFYA73V4GH2Y"
      },
      "outputs": [],
      "source": [
        "import math"
      ]
    },
    {
      "cell_type": "code",
      "execution_count": null,
      "metadata": {
        "id": "cgH-NiNgvZMz"
      },
      "outputs": [],
      "source": [
        "# Load a gensim word2vec model\n",
        "w2v = senReleasesW2V"
      ]
    },
    {
      "cell_type": "markdown",
      "metadata": {
        "id": "UjAyx16xvccJ"
      },
      "source": [
        "#### k-SVD\n",
        "\n",
        "We then perform a K-SVD on the word embedding matrix to learn topics in such a way where each word-vector is represented as a spare linear combination of topics. To generate a good representation of the original word vector space, we want to minimize the difference between our word vectors and the vectors generated as a linear combination of topics. \n",
        "\n",
        "\n"
      ]
    },
    {
      "cell_type": "code",
      "execution_count": null,
      "metadata": {
        "id": "11xyYrXOvgJw"
      },
      "outputs": [],
      "source": [
        "#### TRAIN MODEL:\n",
        "\n",
        "#n_comp: Number of topics (i.e., atoms, or dictionary elements)\n",
        "#n_nonzeros: Number of nonzero coefficients to target (how many atoms each word can load onto)\n",
        "            \n",
        "def do_aksvd(w2vmodel, n_comp, n_nonzeros, save=False, savelocation='/content/aksvd_models/'): \n",
        "    #https://github.com/nel215/ksvd #takes about 2 min on Alina's laptop for 30 atoms \n",
        "    aksvd_t = ApproximateKSVD(n_components=n_comp, transform_n_nonzero_coefs=n_nonzeros) #also may adjuste n iter which is default at 10, and tolerance for error which is default at  tol=1e-6 #n_components is number of discourse atoms, since vocab size is smallish, keep this fewer. transform_n is the number of atoms (components) that a word can be a linear combo of\n",
        "    dictionary_t = aksvd_t.fit(w2vmodel.wv.vectors).components_ # Dictionary is the matrix of discourse atoms. \n",
        "    alpha_t = aksvd_t.transform(w2vmodel.wv.vectors) #get the alphas, which are the \"weights\" of each word on a discourse atoms\n",
        "\n",
        "    if save==True:\n",
        "        outfile = open(str(savelocation) + '200d_' + str(n_comp) + 'comp' + str(n_nonzeros) + 'nonzeros_aksvd_nvdrsdf20','wb')\n",
        "        pickle.dump(aksvd_t,outfile)\n",
        "        outfile.close()\n",
        "        \n",
        "        outfile = open(str(savelocation) + '200d_' +str(n_comp) + 'comp' + str(n_nonzeros) + 'nonzeros_dictionary_nvdrsdf20','wb')\n",
        "        pickle.dump(dictionary_t,outfile)\n",
        "        outfile.close()\n",
        "        \n",
        "        outfile = open(str(savelocation) + '200d_' + str(n_comp) + 'comp' + str(n_nonzeros) + 'nonzeros_alpha_nvdrsdf20','wb')\n",
        "        pickle.dump(alpha_t,outfile)\n",
        "        outfile.close()\n",
        "    return(dictionary_t, alpha_t)"
      ]
    },
    {
      "cell_type": "markdown",
      "metadata": {
        "id": "kEX-yfOQEDKH"
      },
      "source": [
        "Two quick quality checks. These are useful to choose the number of atoms in the dictionary (i.e., number of topics): $R^2$ and Topic Diversity\n",
        "\n",
        "Useful to look at product of the two since $R^2$ tends to increase with higher # topics, as Topic Diversity decreases. Intuition: more topics can better explain the original semantic space, but also then these topics are less distinct from one another. As a result, we typically want a balance between the two."
      ]
    },
    {
      "cell_type": "code",
      "execution_count": null,
      "metadata": {
        "id": "ObzUO-JZEEJS"
      },
      "outputs": [],
      "source": [
        "def reconst_qual(w2vmodel, dictionary_mat, alpha_mat):\n",
        "    #reconstruct the word vectors\n",
        "    reconstructed = alpha_mat.dot(dictionary_mat) #reconstruct word vectors and add back in mean(?). but note that reconstructed norm is still around 0-1, not 1, is that an issue?\n",
        "    #e1 = norm(w2vmodel.wv.vectors - reconstructed) #total reconstruction error, larger means MORE error. norm as specified here takes frobenius norm of error matrix.\n",
        "\n",
        "\n",
        "    #total VARIANCE in the data: sum of squares \n",
        "    squares3= w2vmodel.wv.vectors-np.mean(w2vmodel.wv.vectors, axis=1).reshape(-1,1) #https://dziganto.github.io/data%20science/linear%20regression/machine%20learning/python/Linear-Regression-101-Metrics/\n",
        "    #sst3= np.sum([i.dot(i) for i in squares3] ) #same as below\n",
        "\n",
        "    sst3= np.sum(np.square(squares3))\n",
        "\n",
        "\n",
        "    #total sum of squared ERRORS/residuals\n",
        "    e3= [reconstructed[i]-w2vmodel.wv.vectors[i] for i in range(0,len(w2vmodel.wv.vectors))]  #https://dziganto.github.io/data%20science/linear%20regression/machine%20learning/python/Linear-Regression-101-Metrics/\n",
        "    #sse3= np.sum([i.dot(i) for i in e3] ) #same as below\n",
        "    sse3= np.sum(np.square(e3))\n",
        "\n",
        "    #R^2: 1- (SSE / SST )\n",
        "    r2= 1- (sse3 /  sst3) #https://stats.stackexchange.com/questions/184603/in-pca-what-is-the-connection-between-explained-variance-and-squared-error\n",
        "\n",
        "\n",
        "    #compute root mean square error\n",
        "    rmse=  math.sqrt(np.mean(np.square(e3)))\n",
        "\n",
        "\n",
        "\n",
        "    return(sse3, rmse, r2) #https://stats.stackexchange.com/questions/184603/in-pca-what-is-the-connection-between-explained-variance-and-squared-error"
      ]
    },
    {
      "cell_type": "markdown",
      "metadata": {
        "id": "ipIs45YhvhBM"
      },
      "source": [
        "#### Inferring topics from document\n",
        "\n",
        "We now use a similar approach to what we saw a little earlier, where we inverted our generative model to see which documents belong to which class - we do the same now, but with discourse atoms instead of the whole model. This process tells us the topic most likely to have generated a specific context (document). \n",
        "\n"
      ]
    },
    {
      "cell_type": "code",
      "execution_count": null,
      "metadata": {
        "id": "LGNQXH96vmiD"
      },
      "outputs": [],
      "source": [
        "#topic diversity (% unique words among total closest 25 words to each atom)\n",
        "def topic_diversity(w2vmodel, dictionary_mat, top_n=25):\n",
        "\n",
        "    topwords=[] #list of list, each innter list includes top N words in that topic\n",
        "\n",
        "    for i in range(0, len(dictionary_mat)): #set to number of total topics\n",
        "        topwords.extend([i[0] for i in w2vmodel.wv.similar_by_vector(dictionary_mat[i],topn=top_n)]) #set for top N words \n",
        "        #print(w2vmodel.wv.similar_by_vector(dictionary[i],topn=N))\n",
        "\n",
        "    uniquewords= set(topwords)\n",
        "    diversity = len(uniquewords)/len(topwords)\n",
        "    return(diversity)"
      ]
    },
    {
      "cell_type": "code",
      "execution_count": null,
      "metadata": {
        "id": "sMuRYYmVFMCF"
      },
      "outputs": [],
      "source": [
        "dictionary, alpha = do_aksvd(w2v, 150, 5, save=True)"
      ]
    },
    {
      "cell_type": "code",
      "execution_count": null,
      "metadata": {
        "id": "W0njiXVfFzpH"
      },
      "outputs": [],
      "source": [
        "topic_diversity(w2v, dictionary, top_n=25)"
      ]
    },
    {
      "cell_type": "code",
      "execution_count": null,
      "metadata": {
        "id": "XQGv2X_NFL60"
      },
      "outputs": [],
      "source": [
        "reconst_qual(w2v, dictionary, alpha)\n"
      ]
    },
    {
      "cell_type": "code",
      "execution_count": null,
      "metadata": {
        "id": "AiCYSBTwFLvK"
      },
      "outputs": [],
      "source": [
        "#loading back in the model pieces if not already in\n",
        "\n",
        "# infile = open('../data/aksvd_models/200d_150comp5nonzeros_dictionary_nvdrsdf20','rb')\n",
        "# dictionary=pickle.load(infile)\n",
        "# infile.close()\n",
        "\n",
        "# infile = open('../data/aksvd_models/200d_150comp5nonzeros_aksvd_nvdrsdf20','rb')\n",
        "# aksvd=pickle.load(infile)\n",
        "# infile.close()\n",
        "\n",
        "# infile = open('../data/aksvd_models/200d_150comp5nonzeros_alpha_nvdrsdf20','rb')\n",
        "# alpha=pickle.load(infile)\n",
        "# infile.close()"
      ]
    },
    {
      "cell_type": "code",
      "execution_count": null,
      "metadata": {
        "id": "0VgluAGRGCHi"
      },
      "outputs": [],
      "source": [
        "for i in range(0, len(dictionary)):\n",
        "    print(\"Discourse_Atom \" + str(i))\n",
        "    print([i[0] for i in w2v.wv.similar_by_vector(dictionary[i],topn=25)]) #what are the most similar words to the Nth\n",
        "    #print([i[0] for i in w2vmodel.wv.similar_by_vector(-dictionary[i],topn=25)]) #what are the most similar words to the Nth dicourse atom?\n",
        "    print('\\n')\n"
      ]
    },
    {
      "cell_type": "code",
      "execution_count": null,
      "metadata": {
        "id": "Ysp5BMTxGEnm"
      },
      "outputs": [],
      "source": [
        "# for a specific atom, e.g., 112th atom look at 25 most similar words:\n",
        "w2v.wv.similar_by_vector(dictionary[112],topn=25)"
      ]
    },
    {
      "cell_type": "code",
      "execution_count": null,
      "metadata": {
        "id": "U_C7I9ZFGVi9"
      },
      "outputs": [],
      "source": [
        "print(w2v.wv.vocab.get('the').index, '\\n', alpha[w2vmodel.wv.vocab.get('the').index])\n",
        "\n"
      ]
    },
    {
      "cell_type": "code",
      "execution_count": null,
      "metadata": {
        "id": "s4ZtXsVrGo-1"
      },
      "outputs": [],
      "source": [
        "#useful relevant code:\n",
        "#w2vmodel.wv.index2word[3452]\n",
        "#w2vmodel.wv.most_similar('the', topn=15)\n",
        "#np.where(alpha[w2vmodel.wv.vocab.get('the').index] != 0) #get index where the loading of a word onto discourse atoms is not 0"
      ]
    }
  ],
  "metadata": {
    "anaconda-cloud": {},
    "kernelspec": {
      "display_name": "Python 3 (ipykernel)",
      "language": "python",
      "name": "python3"
    },
    "language_info": {
      "codemirror_mode": {
        "name": "ipython",
        "version": 3
      },
      "file_extension": ".py",
      "mimetype": "text/x-python",
      "name": "python",
      "nbconvert_exporter": "python",
      "pygments_lexer": "ipython3",
      "version": "3.7.4"
    },
    "colab": {
      "name": "4-Word-Embeddings.ipynb",
      "provenance": [],
      "collapsed_sections": [
        "mCC_ruIiO4_a",
        "_djaIWaoO4_a",
        "Ot4nt1QkO4_f",
        "dXCAyzkMO4_f",
        "etCFE4hQO4_i",
        "PvxNnKrZO4_j",
        "rI-0U8JCO4_m",
        "Tw6TMeuEO4_m",
        "apRjeoYpO4_q",
        "Xdpu6SWpO4_s",
        "CeCZlXXfvUPs",
        "UjAyx16xvccJ",
        "ipIs45YhvhBM"
      ],
      "include_colab_link": true
    }
  },
  "nbformat": 4,
  "nbformat_minor": 0
}